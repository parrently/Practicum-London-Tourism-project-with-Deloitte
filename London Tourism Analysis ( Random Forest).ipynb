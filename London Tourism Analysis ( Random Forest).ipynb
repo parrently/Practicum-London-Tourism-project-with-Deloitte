{
 "cells": [
  {
   "cell_type": "code",
   "execution_count": 1,
   "metadata": {
    "collapsed": true
   },
   "outputs": [],
   "source": [
    "import pandas as pd\n",
    "import numpy as np\n",
    "import matplotlib.pyplot as plt"
   ]
  },
  {
   "cell_type": "code",
   "execution_count": 2,
   "metadata": {
    "collapsed": true
   },
   "outputs": [],
   "source": [
    "london = pd.read_csv('london_index.csv')"
   ]
  },
  {
   "cell_type": "code",
   "execution_count": 3,
   "metadata": {},
   "outputs": [
    {
     "data": {
      "text/html": [
       "<div>\n",
       "<style scoped>\n",
       "    .dataframe tbody tr th:only-of-type {\n",
       "        vertical-align: middle;\n",
       "    }\n",
       "\n",
       "    .dataframe tbody tr th {\n",
       "        vertical-align: top;\n",
       "    }\n",
       "\n",
       "    .dataframe thead th {\n",
       "        text-align: right;\n",
       "    }\n",
       "</style>\n",
       "<table border=\"1\" class=\"dataframe\">\n",
       "  <thead>\n",
       "    <tr style=\"text-align: right;\">\n",
       "      <th></th>\n",
       "      <th>year</th>\n",
       "      <th>quarter</th>\n",
       "      <th>market</th>\n",
       "      <th>dur_stay</th>\n",
       "      <th>mode</th>\n",
       "      <th>purpose</th>\n",
       "      <th>visits</th>\n",
       "      <th>spend</th>\n",
       "      <th>nights</th>\n",
       "      <th>PI</th>\n",
       "      <th>econ</th>\n",
       "      <th>busi</th>\n",
       "      <th>gove</th>\n",
       "      <th>educ</th>\n",
       "      <th>heal</th>\n",
       "      <th>safe</th>\n",
       "      <th>pers</th>\n",
       "      <th>soci</th>\n",
       "      <th>envi</th>\n",
       "    </tr>\n",
       "  </thead>\n",
       "  <tbody>\n",
       "    <tr>\n",
       "      <th>0</th>\n",
       "      <td>2007</td>\n",
       "      <td>Q1</td>\n",
       "      <td>Belgium</td>\n",
       "      <td>&lt;15 nights</td>\n",
       "      <td>Air</td>\n",
       "      <td>Holiday</td>\n",
       "      <td>0.753385</td>\n",
       "      <td>0.087581</td>\n",
       "      <td>0.753385</td>\n",
       "      <td>72.956291</td>\n",
       "      <td>77.120262</td>\n",
       "      <td>66.91304</td>\n",
       "      <td>73.608398</td>\n",
       "      <td>78.600838</td>\n",
       "      <td>81.348824</td>\n",
       "      <td>78.137978</td>\n",
       "      <td>85.221649</td>\n",
       "      <td>59.498726</td>\n",
       "      <td>56.156929</td>\n",
       "    </tr>\n",
       "    <tr>\n",
       "      <th>1</th>\n",
       "      <td>2007</td>\n",
       "      <td>Q1</td>\n",
       "      <td>Belgium</td>\n",
       "      <td>&lt;15 nights</td>\n",
       "      <td>Air</td>\n",
       "      <td>Business</td>\n",
       "      <td>4.625445</td>\n",
       "      <td>1.555299</td>\n",
       "      <td>6.869618</td>\n",
       "      <td>72.956291</td>\n",
       "      <td>77.120262</td>\n",
       "      <td>66.91304</td>\n",
       "      <td>73.608398</td>\n",
       "      <td>78.600838</td>\n",
       "      <td>81.348824</td>\n",
       "      <td>78.137978</td>\n",
       "      <td>85.221649</td>\n",
       "      <td>59.498726</td>\n",
       "      <td>56.156929</td>\n",
       "    </tr>\n",
       "    <tr>\n",
       "      <th>2</th>\n",
       "      <td>2007</td>\n",
       "      <td>Q1</td>\n",
       "      <td>Belgium</td>\n",
       "      <td>&lt;15 nights</td>\n",
       "      <td>Air</td>\n",
       "      <td>VFR</td>\n",
       "      <td>1.225540</td>\n",
       "      <td>0.048458</td>\n",
       "      <td>1.793118</td>\n",
       "      <td>72.956291</td>\n",
       "      <td>77.120262</td>\n",
       "      <td>66.91304</td>\n",
       "      <td>73.608398</td>\n",
       "      <td>78.600838</td>\n",
       "      <td>81.348824</td>\n",
       "      <td>78.137978</td>\n",
       "      <td>85.221649</td>\n",
       "      <td>59.498726</td>\n",
       "      <td>56.156929</td>\n",
       "    </tr>\n",
       "    <tr>\n",
       "      <th>3</th>\n",
       "      <td>2007</td>\n",
       "      <td>Q1</td>\n",
       "      <td>Belgium</td>\n",
       "      <td>&lt;15 nights</td>\n",
       "      <td>Air</td>\n",
       "      <td>Miscellaneous</td>\n",
       "      <td>1.023070</td>\n",
       "      <td>0.208063</td>\n",
       "      <td>1.776455</td>\n",
       "      <td>72.956291</td>\n",
       "      <td>77.120262</td>\n",
       "      <td>66.91304</td>\n",
       "      <td>73.608398</td>\n",
       "      <td>78.600838</td>\n",
       "      <td>81.348824</td>\n",
       "      <td>78.137978</td>\n",
       "      <td>85.221649</td>\n",
       "      <td>59.498726</td>\n",
       "      <td>56.156929</td>\n",
       "    </tr>\n",
       "    <tr>\n",
       "      <th>4</th>\n",
       "      <td>2007</td>\n",
       "      <td>Q1</td>\n",
       "      <td>Belgium</td>\n",
       "      <td>&lt;15 nights</td>\n",
       "      <td>Sea</td>\n",
       "      <td>Holiday</td>\n",
       "      <td>6.439640</td>\n",
       "      <td>0.438086</td>\n",
       "      <td>8.448400</td>\n",
       "      <td>72.956291</td>\n",
       "      <td>77.120262</td>\n",
       "      <td>66.91304</td>\n",
       "      <td>73.608398</td>\n",
       "      <td>78.600838</td>\n",
       "      <td>81.348824</td>\n",
       "      <td>78.137978</td>\n",
       "      <td>85.221649</td>\n",
       "      <td>59.498726</td>\n",
       "      <td>56.156929</td>\n",
       "    </tr>\n",
       "  </tbody>\n",
       "</table>\n",
       "</div>"
      ],
      "text/plain": [
       "   year quarter   market    dur_stay mode        purpose    visits     spend  \\\n",
       "0  2007      Q1  Belgium  <15 nights  Air        Holiday  0.753385  0.087581   \n",
       "1  2007      Q1  Belgium  <15 nights  Air       Business  4.625445  1.555299   \n",
       "2  2007      Q1  Belgium  <15 nights  Air            VFR  1.225540  0.048458   \n",
       "3  2007      Q1  Belgium  <15 nights  Air  Miscellaneous  1.023070  0.208063   \n",
       "4  2007      Q1  Belgium  <15 nights  Sea        Holiday  6.439640  0.438086   \n",
       "\n",
       "     nights         PI       econ      busi       gove       educ       heal  \\\n",
       "0  0.753385  72.956291  77.120262  66.91304  73.608398  78.600838  81.348824   \n",
       "1  6.869618  72.956291  77.120262  66.91304  73.608398  78.600838  81.348824   \n",
       "2  1.793118  72.956291  77.120262  66.91304  73.608398  78.600838  81.348824   \n",
       "3  1.776455  72.956291  77.120262  66.91304  73.608398  78.600838  81.348824   \n",
       "4  8.448400  72.956291  77.120262  66.91304  73.608398  78.600838  81.348824   \n",
       "\n",
       "        safe       pers       soci       envi  \n",
       "0  78.137978  85.221649  59.498726  56.156929  \n",
       "1  78.137978  85.221649  59.498726  56.156929  \n",
       "2  78.137978  85.221649  59.498726  56.156929  \n",
       "3  78.137978  85.221649  59.498726  56.156929  \n",
       "4  78.137978  85.221649  59.498726  56.156929  "
      ]
     },
     "execution_count": 3,
     "metadata": {},
     "output_type": "execute_result"
    }
   ],
   "source": [
    "london.head(5)"
   ]
  },
  {
   "cell_type": "code",
   "execution_count": 4,
   "metadata": {
    "collapsed": true
   },
   "outputs": [],
   "source": [
    "london_2 = london.copy()"
   ]
  },
  {
   "cell_type": "code",
   "execution_count": 5,
   "metadata": {
    "collapsed": true
   },
   "outputs": [],
   "source": [
    "for col_name in london_2.columns[6:19]:\n",
    "    new_col_name = col_name + '_std'\n",
    "    london_2[new_col_name] = (london_2[col_name] - london_2[col_name].mean())/london_2[col_name].std()"
   ]
  },
  {
   "cell_type": "code",
   "execution_count": 6,
   "metadata": {
    "collapsed": true
   },
   "outputs": [],
   "source": [
    "london_2 = london_2.drop(london_2.columns[6:19],axis=1)"
   ]
  },
  {
   "cell_type": "code",
   "execution_count": 7,
   "metadata": {},
   "outputs": [
    {
     "data": {
      "text/html": [
       "<div>\n",
       "<style scoped>\n",
       "    .dataframe tbody tr th:only-of-type {\n",
       "        vertical-align: middle;\n",
       "    }\n",
       "\n",
       "    .dataframe tbody tr th {\n",
       "        vertical-align: top;\n",
       "    }\n",
       "\n",
       "    .dataframe thead th {\n",
       "        text-align: right;\n",
       "    }\n",
       "</style>\n",
       "<table border=\"1\" class=\"dataframe\">\n",
       "  <thead>\n",
       "    <tr style=\"text-align: right;\">\n",
       "      <th></th>\n",
       "      <th>year</th>\n",
       "      <th>quarter</th>\n",
       "      <th>market</th>\n",
       "      <th>dur_stay</th>\n",
       "      <th>mode</th>\n",
       "      <th>purpose</th>\n",
       "      <th>visits_std</th>\n",
       "      <th>spend_std</th>\n",
       "      <th>nights_std</th>\n",
       "      <th>PI_std</th>\n",
       "      <th>econ_std</th>\n",
       "      <th>busi_std</th>\n",
       "      <th>gove_std</th>\n",
       "      <th>educ_std</th>\n",
       "      <th>heal_std</th>\n",
       "      <th>safe_std</th>\n",
       "      <th>pers_std</th>\n",
       "      <th>soci_std</th>\n",
       "      <th>envi_std</th>\n",
       "    </tr>\n",
       "  </thead>\n",
       "  <tbody>\n",
       "    <tr>\n",
       "      <th>0</th>\n",
       "      <td>2007</td>\n",
       "      <td>Q1</td>\n",
       "      <td>Belgium</td>\n",
       "      <td>&lt;15 nights</td>\n",
       "      <td>Air</td>\n",
       "      <td>Holiday</td>\n",
       "      <td>-0.421079</td>\n",
       "      <td>-0.451530</td>\n",
       "      <td>-0.510844</td>\n",
       "      <td>0.722575</td>\n",
       "      <td>0.972559</td>\n",
       "      <td>0.619921</td>\n",
       "      <td>0.782733</td>\n",
       "      <td>1.011442</td>\n",
       "      <td>0.728396</td>\n",
       "      <td>0.439758</td>\n",
       "      <td>0.991503</td>\n",
       "      <td>0.593672</td>\n",
       "      <td>-1.013508</td>\n",
       "    </tr>\n",
       "    <tr>\n",
       "      <th>1</th>\n",
       "      <td>2007</td>\n",
       "      <td>Q1</td>\n",
       "      <td>Belgium</td>\n",
       "      <td>&lt;15 nights</td>\n",
       "      <td>Air</td>\n",
       "      <td>Business</td>\n",
       "      <td>-0.025213</td>\n",
       "      <td>-0.227183</td>\n",
       "      <td>-0.400948</td>\n",
       "      <td>0.722575</td>\n",
       "      <td>0.972559</td>\n",
       "      <td>0.619921</td>\n",
       "      <td>0.782733</td>\n",
       "      <td>1.011442</td>\n",
       "      <td>0.728396</td>\n",
       "      <td>0.439758</td>\n",
       "      <td>0.991503</td>\n",
       "      <td>0.593672</td>\n",
       "      <td>-1.013508</td>\n",
       "    </tr>\n",
       "    <tr>\n",
       "      <th>2</th>\n",
       "      <td>2007</td>\n",
       "      <td>Q1</td>\n",
       "      <td>Belgium</td>\n",
       "      <td>&lt;15 nights</td>\n",
       "      <td>Air</td>\n",
       "      <td>VFR</td>\n",
       "      <td>-0.372808</td>\n",
       "      <td>-0.457511</td>\n",
       "      <td>-0.492162</td>\n",
       "      <td>0.722575</td>\n",
       "      <td>0.972559</td>\n",
       "      <td>0.619921</td>\n",
       "      <td>0.782733</td>\n",
       "      <td>1.011442</td>\n",
       "      <td>0.728396</td>\n",
       "      <td>0.439758</td>\n",
       "      <td>0.991503</td>\n",
       "      <td>0.593672</td>\n",
       "      <td>-1.013508</td>\n",
       "    </tr>\n",
       "    <tr>\n",
       "      <th>3</th>\n",
       "      <td>2007</td>\n",
       "      <td>Q1</td>\n",
       "      <td>Belgium</td>\n",
       "      <td>&lt;15 nights</td>\n",
       "      <td>Air</td>\n",
       "      <td>Miscellaneous</td>\n",
       "      <td>-0.393508</td>\n",
       "      <td>-0.433114</td>\n",
       "      <td>-0.492461</td>\n",
       "      <td>0.722575</td>\n",
       "      <td>0.972559</td>\n",
       "      <td>0.619921</td>\n",
       "      <td>0.782733</td>\n",
       "      <td>1.011442</td>\n",
       "      <td>0.728396</td>\n",
       "      <td>0.439758</td>\n",
       "      <td>0.991503</td>\n",
       "      <td>0.593672</td>\n",
       "      <td>-1.013508</td>\n",
       "    </tr>\n",
       "    <tr>\n",
       "      <th>4</th>\n",
       "      <td>2007</td>\n",
       "      <td>Q1</td>\n",
       "      <td>Belgium</td>\n",
       "      <td>&lt;15 nights</td>\n",
       "      <td>Sea</td>\n",
       "      <td>Holiday</td>\n",
       "      <td>0.160265</td>\n",
       "      <td>-0.397954</td>\n",
       "      <td>-0.372581</td>\n",
       "      <td>0.722575</td>\n",
       "      <td>0.972559</td>\n",
       "      <td>0.619921</td>\n",
       "      <td>0.782733</td>\n",
       "      <td>1.011442</td>\n",
       "      <td>0.728396</td>\n",
       "      <td>0.439758</td>\n",
       "      <td>0.991503</td>\n",
       "      <td>0.593672</td>\n",
       "      <td>-1.013508</td>\n",
       "    </tr>\n",
       "  </tbody>\n",
       "</table>\n",
       "</div>"
      ],
      "text/plain": [
       "   year quarter   market    dur_stay mode        purpose  visits_std  \\\n",
       "0  2007      Q1  Belgium  <15 nights  Air        Holiday   -0.421079   \n",
       "1  2007      Q1  Belgium  <15 nights  Air       Business   -0.025213   \n",
       "2  2007      Q1  Belgium  <15 nights  Air            VFR   -0.372808   \n",
       "3  2007      Q1  Belgium  <15 nights  Air  Miscellaneous   -0.393508   \n",
       "4  2007      Q1  Belgium  <15 nights  Sea        Holiday    0.160265   \n",
       "\n",
       "   spend_std  nights_std    PI_std  econ_std  busi_std  gove_std  educ_std  \\\n",
       "0  -0.451530   -0.510844  0.722575  0.972559  0.619921  0.782733  1.011442   \n",
       "1  -0.227183   -0.400948  0.722575  0.972559  0.619921  0.782733  1.011442   \n",
       "2  -0.457511   -0.492162  0.722575  0.972559  0.619921  0.782733  1.011442   \n",
       "3  -0.433114   -0.492461  0.722575  0.972559  0.619921  0.782733  1.011442   \n",
       "4  -0.397954   -0.372581  0.722575  0.972559  0.619921  0.782733  1.011442   \n",
       "\n",
       "   heal_std  safe_std  pers_std  soci_std  envi_std  \n",
       "0  0.728396  0.439758  0.991503  0.593672 -1.013508  \n",
       "1  0.728396  0.439758  0.991503  0.593672 -1.013508  \n",
       "2  0.728396  0.439758  0.991503  0.593672 -1.013508  \n",
       "3  0.728396  0.439758  0.991503  0.593672 -1.013508  \n",
       "4  0.728396  0.439758  0.991503  0.593672 -1.013508  "
      ]
     },
     "execution_count": 7,
     "metadata": {},
     "output_type": "execute_result"
    }
   ],
   "source": [
    "london_2.head()"
   ]
  },
  {
   "cell_type": "code",
   "execution_count": 8,
   "metadata": {
    "collapsed": true
   },
   "outputs": [],
   "source": [
    "london_3 = london_2.drop(['quarter'], axis = 1)"
   ]
  },
  {
   "cell_type": "code",
   "execution_count": 9,
   "metadata": {
    "collapsed": true
   },
   "outputs": [],
   "source": [
    "london_4 = london_3[london_3[\"year\"] < 2017]"
   ]
  },
  {
   "cell_type": "code",
   "execution_count": 10,
   "metadata": {},
   "outputs": [
    {
     "data": {
      "text/plain": [
       "year          33909\n",
       "market        33909\n",
       "dur_stay      33909\n",
       "mode          33909\n",
       "purpose       33909\n",
       "visits_std    33909\n",
       "spend_std     33909\n",
       "nights_std    33909\n",
       "PI_std        33909\n",
       "econ_std      33909\n",
       "busi_std      33909\n",
       "gove_std      33909\n",
       "educ_std      33909\n",
       "heal_std      33909\n",
       "safe_std      33909\n",
       "pers_std      33909\n",
       "soci_std      33909\n",
       "envi_std      33909\n",
       "dtype: int64"
      ]
     },
     "execution_count": 10,
     "metadata": {},
     "output_type": "execute_result"
    }
   ],
   "source": [
    "london_4.count()"
   ]
  },
  {
   "cell_type": "code",
   "execution_count": 11,
   "metadata": {},
   "outputs": [
    {
     "data": {
      "text/html": [
       "<div>\n",
       "<style scoped>\n",
       "    .dataframe tbody tr th:only-of-type {\n",
       "        vertical-align: middle;\n",
       "    }\n",
       "\n",
       "    .dataframe tbody tr th {\n",
       "        vertical-align: top;\n",
       "    }\n",
       "\n",
       "    .dataframe thead th {\n",
       "        text-align: right;\n",
       "    }\n",
       "</style>\n",
       "<table border=\"1\" class=\"dataframe\">\n",
       "  <thead>\n",
       "    <tr style=\"text-align: right;\">\n",
       "      <th></th>\n",
       "      <th>year</th>\n",
       "      <th>market</th>\n",
       "      <th>dur_stay</th>\n",
       "      <th>mode</th>\n",
       "      <th>purpose</th>\n",
       "      <th>visits_std</th>\n",
       "      <th>spend_std</th>\n",
       "      <th>nights_std</th>\n",
       "      <th>PI_std</th>\n",
       "      <th>econ_std</th>\n",
       "      <th>busi_std</th>\n",
       "      <th>gove_std</th>\n",
       "      <th>educ_std</th>\n",
       "      <th>heal_std</th>\n",
       "      <th>safe_std</th>\n",
       "      <th>pers_std</th>\n",
       "      <th>soci_std</th>\n",
       "      <th>envi_std</th>\n",
       "    </tr>\n",
       "  </thead>\n",
       "  <tbody>\n",
       "    <tr>\n",
       "      <th>33904</th>\n",
       "      <td>2016</td>\n",
       "      <td>Other Africa</td>\n",
       "      <td>&lt;15 nights</td>\n",
       "      <td>Air</td>\n",
       "      <td>VFR</td>\n",
       "      <td>-0.418963</td>\n",
       "      <td>-0.108175</td>\n",
       "      <td>-0.371385</td>\n",
       "      <td>-1.90829</td>\n",
       "      <td>-2.170408</td>\n",
       "      <td>-1.746874</td>\n",
       "      <td>-1.609777</td>\n",
       "      <td>-2.735826</td>\n",
       "      <td>-2.295509</td>\n",
       "      <td>-1.434222</td>\n",
       "      <td>-1.160696</td>\n",
       "      <td>-1.184234</td>\n",
       "      <td>-0.921138</td>\n",
       "    </tr>\n",
       "    <tr>\n",
       "      <th>33905</th>\n",
       "      <td>2016</td>\n",
       "      <td>Other Africa</td>\n",
       "      <td>&lt;15 nights</td>\n",
       "      <td>Air</td>\n",
       "      <td>Miscellaneous</td>\n",
       "      <td>-0.446752</td>\n",
       "      <td>-0.454169</td>\n",
       "      <td>-0.452183</td>\n",
       "      <td>-1.90829</td>\n",
       "      <td>-2.170408</td>\n",
       "      <td>-1.746874</td>\n",
       "      <td>-1.609777</td>\n",
       "      <td>-2.735826</td>\n",
       "      <td>-2.295509</td>\n",
       "      <td>-1.434222</td>\n",
       "      <td>-1.160696</td>\n",
       "      <td>-1.184234</td>\n",
       "      <td>-0.921138</td>\n",
       "    </tr>\n",
       "    <tr>\n",
       "      <th>33906</th>\n",
       "      <td>2016</td>\n",
       "      <td>Other Africa</td>\n",
       "      <td>15+  nights</td>\n",
       "      <td>Air</td>\n",
       "      <td>Business</td>\n",
       "      <td>-0.432957</td>\n",
       "      <td>-0.349874</td>\n",
       "      <td>-0.240599</td>\n",
       "      <td>-1.90829</td>\n",
       "      <td>-2.170408</td>\n",
       "      <td>-1.746874</td>\n",
       "      <td>-1.609777</td>\n",
       "      <td>-2.735826</td>\n",
       "      <td>-2.295509</td>\n",
       "      <td>-1.434222</td>\n",
       "      <td>-1.160696</td>\n",
       "      <td>-1.184234</td>\n",
       "      <td>-0.921138</td>\n",
       "    </tr>\n",
       "    <tr>\n",
       "      <th>33907</th>\n",
       "      <td>2016</td>\n",
       "      <td>Other Africa</td>\n",
       "      <td>15+  nights</td>\n",
       "      <td>Air</td>\n",
       "      <td>VFR</td>\n",
       "      <td>-0.327472</td>\n",
       "      <td>-0.306922</td>\n",
       "      <td>0.111848</td>\n",
       "      <td>-1.90829</td>\n",
       "      <td>-2.170408</td>\n",
       "      <td>-1.746874</td>\n",
       "      <td>-1.609777</td>\n",
       "      <td>-2.735826</td>\n",
       "      <td>-2.295509</td>\n",
       "      <td>-1.434222</td>\n",
       "      <td>-1.160696</td>\n",
       "      <td>-1.184234</td>\n",
       "      <td>-0.921138</td>\n",
       "    </tr>\n",
       "    <tr>\n",
       "      <th>33908</th>\n",
       "      <td>2016</td>\n",
       "      <td>Other Africa</td>\n",
       "      <td>15+  nights</td>\n",
       "      <td>Tunnel</td>\n",
       "      <td>Study</td>\n",
       "      <td>-0.440052</td>\n",
       "      <td>-0.412842</td>\n",
       "      <td>-0.259119</td>\n",
       "      <td>-1.90829</td>\n",
       "      <td>-2.170408</td>\n",
       "      <td>-1.746874</td>\n",
       "      <td>-1.609777</td>\n",
       "      <td>-2.735826</td>\n",
       "      <td>-2.295509</td>\n",
       "      <td>-1.434222</td>\n",
       "      <td>-1.160696</td>\n",
       "      <td>-1.184234</td>\n",
       "      <td>-0.921138</td>\n",
       "    </tr>\n",
       "  </tbody>\n",
       "</table>\n",
       "</div>"
      ],
      "text/plain": [
       "       year        market     dur_stay    mode        purpose  visits_std  \\\n",
       "33904  2016  Other Africa   <15 nights     Air            VFR   -0.418963   \n",
       "33905  2016  Other Africa   <15 nights     Air  Miscellaneous   -0.446752   \n",
       "33906  2016  Other Africa  15+  nights     Air       Business   -0.432957   \n",
       "33907  2016  Other Africa  15+  nights     Air            VFR   -0.327472   \n",
       "33908  2016  Other Africa  15+  nights  Tunnel          Study   -0.440052   \n",
       "\n",
       "       spend_std  nights_std   PI_std  econ_std  busi_std  gove_std  educ_std  \\\n",
       "33904  -0.108175   -0.371385 -1.90829 -2.170408 -1.746874 -1.609777 -2.735826   \n",
       "33905  -0.454169   -0.452183 -1.90829 -2.170408 -1.746874 -1.609777 -2.735826   \n",
       "33906  -0.349874   -0.240599 -1.90829 -2.170408 -1.746874 -1.609777 -2.735826   \n",
       "33907  -0.306922    0.111848 -1.90829 -2.170408 -1.746874 -1.609777 -2.735826   \n",
       "33908  -0.412842   -0.259119 -1.90829 -2.170408 -1.746874 -1.609777 -2.735826   \n",
       "\n",
       "       heal_std  safe_std  pers_std  soci_std  envi_std  \n",
       "33904 -2.295509 -1.434222 -1.160696 -1.184234 -0.921138  \n",
       "33905 -2.295509 -1.434222 -1.160696 -1.184234 -0.921138  \n",
       "33906 -2.295509 -1.434222 -1.160696 -1.184234 -0.921138  \n",
       "33907 -2.295509 -1.434222 -1.160696 -1.184234 -0.921138  \n",
       "33908 -2.295509 -1.434222 -1.160696 -1.184234 -0.921138  "
      ]
     },
     "execution_count": 11,
     "metadata": {},
     "output_type": "execute_result"
    }
   ],
   "source": [
    "london_4.tail()"
   ]
  },
  {
   "cell_type": "code",
   "execution_count": 12,
   "metadata": {
    "collapsed": true
   },
   "outputs": [],
   "source": [
    "X = london_4.drop(['dur_stay'], axis = 1)"
   ]
  },
  {
   "cell_type": "code",
   "execution_count": 13,
   "metadata": {
    "collapsed": true
   },
   "outputs": [],
   "source": [
    "Y = london_4['dur_stay']"
   ]
  },
  {
   "cell_type": "code",
   "execution_count": 14,
   "metadata": {
    "collapsed": true
   },
   "outputs": [],
   "source": [
    "from sklearn.preprocessing import LabelEncoder, OneHotEncoder\n",
    "labelencoder_X = LabelEncoder()"
   ]
  },
  {
   "cell_type": "code",
   "execution_count": 15,
   "metadata": {
    "collapsed": true
   },
   "outputs": [],
   "source": [
    "X.iloc[:, 1] = labelencoder_X.fit_transform(X.iloc[:, 1])\n",
    "X.iloc[:, 2] = labelencoder_X.fit_transform(X.iloc[:, 2])\n",
    "X.iloc[:, 3] = labelencoder_X.fit_transform(X.iloc[:, 3])"
   ]
  },
  {
   "cell_type": "code",
   "execution_count": 16,
   "metadata": {},
   "outputs": [
    {
     "data": {
      "text/html": [
       "<div>\n",
       "<style scoped>\n",
       "    .dataframe tbody tr th:only-of-type {\n",
       "        vertical-align: middle;\n",
       "    }\n",
       "\n",
       "    .dataframe tbody tr th {\n",
       "        vertical-align: top;\n",
       "    }\n",
       "\n",
       "    .dataframe thead th {\n",
       "        text-align: right;\n",
       "    }\n",
       "</style>\n",
       "<table border=\"1\" class=\"dataframe\">\n",
       "  <thead>\n",
       "    <tr style=\"text-align: right;\">\n",
       "      <th></th>\n",
       "      <th>year</th>\n",
       "      <th>market</th>\n",
       "      <th>mode</th>\n",
       "      <th>purpose</th>\n",
       "      <th>visits_std</th>\n",
       "      <th>spend_std</th>\n",
       "      <th>nights_std</th>\n",
       "      <th>PI_std</th>\n",
       "      <th>econ_std</th>\n",
       "      <th>busi_std</th>\n",
       "      <th>gove_std</th>\n",
       "      <th>educ_std</th>\n",
       "      <th>heal_std</th>\n",
       "      <th>safe_std</th>\n",
       "      <th>pers_std</th>\n",
       "      <th>soci_std</th>\n",
       "      <th>envi_std</th>\n",
       "    </tr>\n",
       "  </thead>\n",
       "  <tbody>\n",
       "    <tr>\n",
       "      <th>0</th>\n",
       "      <td>2007</td>\n",
       "      <td>4</td>\n",
       "      <td>0</td>\n",
       "      <td>1</td>\n",
       "      <td>-0.421079</td>\n",
       "      <td>-0.451530</td>\n",
       "      <td>-0.510844</td>\n",
       "      <td>0.722575</td>\n",
       "      <td>0.972559</td>\n",
       "      <td>0.619921</td>\n",
       "      <td>0.782733</td>\n",
       "      <td>1.011442</td>\n",
       "      <td>0.728396</td>\n",
       "      <td>0.439758</td>\n",
       "      <td>0.991503</td>\n",
       "      <td>0.593672</td>\n",
       "      <td>-1.013508</td>\n",
       "    </tr>\n",
       "    <tr>\n",
       "      <th>1</th>\n",
       "      <td>2007</td>\n",
       "      <td>4</td>\n",
       "      <td>0</td>\n",
       "      <td>0</td>\n",
       "      <td>-0.025213</td>\n",
       "      <td>-0.227183</td>\n",
       "      <td>-0.400948</td>\n",
       "      <td>0.722575</td>\n",
       "      <td>0.972559</td>\n",
       "      <td>0.619921</td>\n",
       "      <td>0.782733</td>\n",
       "      <td>1.011442</td>\n",
       "      <td>0.728396</td>\n",
       "      <td>0.439758</td>\n",
       "      <td>0.991503</td>\n",
       "      <td>0.593672</td>\n",
       "      <td>-1.013508</td>\n",
       "    </tr>\n",
       "    <tr>\n",
       "      <th>2</th>\n",
       "      <td>2007</td>\n",
       "      <td>4</td>\n",
       "      <td>0</td>\n",
       "      <td>4</td>\n",
       "      <td>-0.372808</td>\n",
       "      <td>-0.457511</td>\n",
       "      <td>-0.492162</td>\n",
       "      <td>0.722575</td>\n",
       "      <td>0.972559</td>\n",
       "      <td>0.619921</td>\n",
       "      <td>0.782733</td>\n",
       "      <td>1.011442</td>\n",
       "      <td>0.728396</td>\n",
       "      <td>0.439758</td>\n",
       "      <td>0.991503</td>\n",
       "      <td>0.593672</td>\n",
       "      <td>-1.013508</td>\n",
       "    </tr>\n",
       "    <tr>\n",
       "      <th>3</th>\n",
       "      <td>2007</td>\n",
       "      <td>4</td>\n",
       "      <td>0</td>\n",
       "      <td>2</td>\n",
       "      <td>-0.393508</td>\n",
       "      <td>-0.433114</td>\n",
       "      <td>-0.492461</td>\n",
       "      <td>0.722575</td>\n",
       "      <td>0.972559</td>\n",
       "      <td>0.619921</td>\n",
       "      <td>0.782733</td>\n",
       "      <td>1.011442</td>\n",
       "      <td>0.728396</td>\n",
       "      <td>0.439758</td>\n",
       "      <td>0.991503</td>\n",
       "      <td>0.593672</td>\n",
       "      <td>-1.013508</td>\n",
       "    </tr>\n",
       "    <tr>\n",
       "      <th>4</th>\n",
       "      <td>2007</td>\n",
       "      <td>4</td>\n",
       "      <td>1</td>\n",
       "      <td>1</td>\n",
       "      <td>0.160265</td>\n",
       "      <td>-0.397954</td>\n",
       "      <td>-0.372581</td>\n",
       "      <td>0.722575</td>\n",
       "      <td>0.972559</td>\n",
       "      <td>0.619921</td>\n",
       "      <td>0.782733</td>\n",
       "      <td>1.011442</td>\n",
       "      <td>0.728396</td>\n",
       "      <td>0.439758</td>\n",
       "      <td>0.991503</td>\n",
       "      <td>0.593672</td>\n",
       "      <td>-1.013508</td>\n",
       "    </tr>\n",
       "  </tbody>\n",
       "</table>\n",
       "</div>"
      ],
      "text/plain": [
       "   year  market  mode  purpose  visits_std  spend_std  nights_std    PI_std  \\\n",
       "0  2007       4     0        1   -0.421079  -0.451530   -0.510844  0.722575   \n",
       "1  2007       4     0        0   -0.025213  -0.227183   -0.400948  0.722575   \n",
       "2  2007       4     0        4   -0.372808  -0.457511   -0.492162  0.722575   \n",
       "3  2007       4     0        2   -0.393508  -0.433114   -0.492461  0.722575   \n",
       "4  2007       4     1        1    0.160265  -0.397954   -0.372581  0.722575   \n",
       "\n",
       "   econ_std  busi_std  gove_std  educ_std  heal_std  safe_std  pers_std  \\\n",
       "0  0.972559  0.619921  0.782733  1.011442  0.728396  0.439758  0.991503   \n",
       "1  0.972559  0.619921  0.782733  1.011442  0.728396  0.439758  0.991503   \n",
       "2  0.972559  0.619921  0.782733  1.011442  0.728396  0.439758  0.991503   \n",
       "3  0.972559  0.619921  0.782733  1.011442  0.728396  0.439758  0.991503   \n",
       "4  0.972559  0.619921  0.782733  1.011442  0.728396  0.439758  0.991503   \n",
       "\n",
       "   soci_std  envi_std  \n",
       "0  0.593672 -1.013508  \n",
       "1  0.593672 -1.013508  \n",
       "2  0.593672 -1.013508  \n",
       "3  0.593672 -1.013508  \n",
       "4  0.593672 -1.013508  "
      ]
     },
     "execution_count": 16,
     "metadata": {},
     "output_type": "execute_result"
    }
   ],
   "source": [
    "X.head()"
   ]
  },
  {
   "cell_type": "code",
   "execution_count": 17,
   "metadata": {
    "collapsed": true
   },
   "outputs": [],
   "source": [
    "onehotencoder = OneHotEncoder(categorical_features = [1,2,3])\n",
    "X = onehotencoder.fit_transform(X).toarray()"
   ]
  },
  {
   "cell_type": "code",
   "execution_count": 18,
   "metadata": {
    "collapsed": true
   },
   "outputs": [],
   "source": [
    "# Encoding the Dependent Variable\n",
    "labelencoder_Y = LabelEncoder()\n",
    "Y = labelencoder_Y.fit_transform(Y)"
   ]
  },
  {
   "cell_type": "code",
   "execution_count": 19,
   "metadata": {},
   "outputs": [
    {
     "data": {
      "text/plain": [
       "array([1, 1, 1, ..., 0, 0, 0], dtype=int64)"
      ]
     },
     "execution_count": 19,
     "metadata": {},
     "output_type": "execute_result"
    }
   ],
   "source": [
    "Y"
   ]
  },
  {
   "cell_type": "code",
   "execution_count": 20,
   "metadata": {},
   "outputs": [
    {
     "name": "stderr",
     "output_type": "stream",
     "text": [
      "D:\\Anaconda\\lib\\site-packages\\sklearn\\cross_validation.py:41: DeprecationWarning: This module was deprecated in version 0.18 in favor of the model_selection module into which all the refactored classes and functions are moved. Also note that the interface of the new CV iterators are different from that of this module. This module will be removed in 0.20.\n",
      "  \"This module will be removed in 0.20.\", DeprecationWarning)\n"
     ]
    }
   ],
   "source": [
    "from sklearn.cross_validation import train_test_split\n",
    "X_train, X_test, Y_train, Y_test = train_test_split(X, Y, test_size = 0.25, random_state = 0)"
   ]
  },
  {
   "cell_type": "code",
   "execution_count": 21,
   "metadata": {},
   "outputs": [
    {
     "data": {
      "text/plain": [
       "RandomForestClassifier(bootstrap=True, class_weight=None, criterion='entropy',\n",
       "            max_depth=None, max_features='auto', max_leaf_nodes=None,\n",
       "            min_impurity_decrease=0.0, min_impurity_split=None,\n",
       "            min_samples_leaf=1, min_samples_split=2,\n",
       "            min_weight_fraction_leaf=0.0, n_estimators=500, n_jobs=1,\n",
       "            oob_score=False, random_state=0, verbose=0, warm_start=False)"
      ]
     },
     "execution_count": 21,
     "metadata": {},
     "output_type": "execute_result"
    }
   ],
   "source": [
    "from sklearn.ensemble import RandomForestClassifier\n",
    "names = london_4.columns\n",
    "classifier_rf = RandomForestClassifier(n_estimators = 500, criterion = 'entropy', random_state = 0)\n",
    "classifier_rf.fit(X_train, Y_train)"
   ]
  },
  {
   "cell_type": "markdown",
   "metadata": {},
   "source": [
    "### Feature selection"
   ]
  },
  {
   "cell_type": "code",
   "execution_count": 22,
   "metadata": {},
   "outputs": [
    {
     "data": {
      "text/plain": [
       "[(0.00374, 'econ_std'),\n",
       " (0.00372, 'PI_std'),\n",
       " (0.00299, 'visits_std'),\n",
       " (0.00286, 'spend_std'),\n",
       " (0.00281, 'market'),\n",
       " (0.0028, 'nights_std'),\n",
       " (0.00278, 'purpose'),\n",
       " (0.00276, 'mode'),\n",
       " (0.00267, 'dur_stay'),\n",
       " (0.00266, 'year'),\n",
       " (0.00171, 'gove_std'),\n",
       " (0.00083, 'safe_std'),\n",
       " (0.00068, 'envi_std'),\n",
       " (0.0005, 'educ_std'),\n",
       " (0.00046, 'pers_std'),\n",
       " (0.00042, 'busi_std'),\n",
       " (0.00038, 'soci_std'),\n",
       " (0.00026, 'heal_std')]"
      ]
     },
     "execution_count": 22,
     "metadata": {},
     "output_type": "execute_result"
    }
   ],
   "source": [
    "sorted(zip(map(lambda x: round(x, 5), classifier_rf.feature_importances_), names), \n",
    "             reverse = True)"
   ]
  },
  {
   "cell_type": "code",
   "execution_count": 23,
   "metadata": {
    "collapsed": true
   },
   "outputs": [],
   "source": [
    "Y_pred_rf = classifier_rf.predict(X_test)"
   ]
  },
  {
   "cell_type": "code",
   "execution_count": 24,
   "metadata": {},
   "outputs": [
    {
     "name": "stdout",
     "output_type": "stream",
     "text": [
      "Random Forest Confusion matrix, without normalization\n",
      "[[ 930  601]\n",
      " [  75 6872]]\n",
      "Random Forest Normalized confusion matrix\n",
      "[[0.61 0.39]\n",
      " [0.01 0.99]]\n"
     ]
    },
    {
     "data": {
      "image/png": "[encoded data removed]",
      "text/plain": [
       "<Figure size 432x288 with 2 Axes>"
      ]
     },
     "metadata": {},
     "output_type": "display_data"
    },
    {
     "data": {
      "image/png": "[encoded data removed]",
      "text/plain": [
       "<Figure size 432x288 with 2 Axes>"
      ]
     },
     "metadata": {},
     "output_type": "display_data"
    }
   ],
   "source": [
    "import itertools\n",
    "from sklearn.metrics import confusion_matrix\n",
    "\n",
    "class_names = ['<15 nights','15+nights']\n",
    "\n",
    "def plot_confusion_matrix(cm, classes,\n",
    "                          normalize=False,\n",
    "                          title='Confusion matrix',\n",
    "                          cmap=plt.cm.Blues):\n",
    "    if normalize:\n",
    "        cm = cm.astype('float') / cm.sum(axis=1)[:, np.newaxis]\n",
    "        print(\"Random Forest Normalized confusion matrix\")\n",
    "    else:\n",
    "        print('Random Forest Confusion matrix, without normalization')\n",
    "    print(cm)\n",
    "\n",
    "    plt.imshow(cm, interpolation='nearest', cmap=cmap)\n",
    "    plt.title(title)\n",
    "    plt.colorbar()\n",
    "    tick_marks = np.arange(len(classes))\n",
    "    plt.xticks(tick_marks, classes, rotation=45)\n",
    "    plt.yticks(tick_marks, classes)\n",
    "\n",
    "    fmt = '.2f'if normalize else 'd'\n",
    "    thresh = cm.max() / 2.\n",
    "    for i, j in itertools.product(range(cm.shape[0]), range(cm.shape[1])):\n",
    "        plt.text(j, i, format(cm[i, j], fmt),\n",
    "                 horizontalalignment=\"center\",\n",
    "                 color=\"white\" if cm[i, j] > thresh else \"black\")\n",
    "\n",
    "    plt.ylabel('True label')\n",
    "    plt.xlabel('Predicted label')\n",
    "    plt.tight_layout()\n",
    "\n",
    "\n",
    "# Compute confusion matrix\n",
    "cnf_matrix = confusion_matrix(Y_test, Y_pred_rf)\n",
    "np.set_printoptions(precision=2)\n",
    "\n",
    "# Plot non-normalized confusion matrix\n",
    "plt.figure()\n",
    "plot_confusion_matrix(cnf_matrix, classes=class_names,\n",
    "                      title='Random Forest Confusion matrix, without normalization')\n",
    "\n",
    "# Plot normalized confusion matrix\n",
    "plt.figure()\n",
    "plot_confusion_matrix(cnf_matrix, classes=class_names, normalize=True,\n",
    "                      title='Random Forest Normalized confusion matrix')\n",
    "\n",
    "plt.show()"
   ]
  },
  {
   "cell_type": "code",
   "execution_count": 25,
   "metadata": {},
   "outputs": [
    {
     "name": "stdout",
     "output_type": "stream",
     "text": [
      "             precision    recall  f1-score   support\n",
      "\n",
      " <15 nights       0.93      0.61      0.73      1531\n",
      "  15+nights       0.92      0.99      0.95      6947\n",
      "\n",
      "avg / total       0.92      0.92      0.91      8478\n",
      "\n"
     ]
    }
   ],
   "source": [
    "from sklearn.metrics import classification_report\n",
    "print(classification_report(Y_test, Y_pred_rf, target_names=class_names)) "
   ]
  },
  {
   "cell_type": "code",
   "execution_count": 26,
   "metadata": {},
   "outputs": [
    {
     "data": {
      "text/plain": [
       "0.9199801751277119"
      ]
     },
     "execution_count": 26,
     "metadata": {},
     "output_type": "execute_result"
    }
   ],
   "source": [
    "from sklearn.model_selection import cross_val_score\n",
    "accuracies = cross_val_score(estimator = classifier_rf, X = X_train, y = Y_train, cv = 10)\n",
    "accuracies.mean()"
   ]
  }
 ],
 "metadata": {
  "kernelspec": {
   "display_name": "Python 3",
   "language": "python",
   "name": "python3"
  },
  "language_info": {
   "codemirror_mode": {
    "name": "ipython",
    "version": 3
   },
   "file_extension": ".py",
   "mimetype": "text/x-python",
   "name": "python",
   "nbconvert_exporter": "python",
   "pygments_lexer": "ipython3",
   "version": "3.6.2"
  }
 },
 "nbformat": 4,
 "nbformat_minor": 2
}
