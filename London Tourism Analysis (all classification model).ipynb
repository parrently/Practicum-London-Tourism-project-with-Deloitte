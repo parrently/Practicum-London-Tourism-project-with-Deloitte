{
 "cells": [
  {
   "cell_type": "markdown",
   "metadata": {},
   "source": [
    "## London Tourism Analysis (all classification model draft)"
   ]
  },
  {
   "cell_type": "markdown",
   "metadata": {},
   "source": [
    "### Group members:\n",
    "- Ziyi Zhao\n",
    "- Hongbo Liu\n",
    "- Erya Ouyang\n",
    "- Jingze Zhang\n",
    "- Leo Liu"
   ]
  },
  {
   "cell_type": "code",
   "execution_count": 2,
   "metadata": {
    "collapsed": true
   },
   "outputs": [],
   "source": [
    "import pandas as pd\n",
    "import numpy as np\n",
    "import matplotlib.pyplot as plt"
   ]
  },
  {
   "cell_type": "code",
   "execution_count": 3,
   "metadata": {
    "collapsed": true
   },
   "outputs": [],
   "source": [
    "london = pd.read_csv('london_index.csv')"
   ]
  },
  {
   "cell_type": "code",
   "execution_count": 4,
   "metadata": {},
   "outputs": [
    {
     "data": {
      "text/html": [
       "<div>\n",
       "<style scoped>\n",
       "    .dataframe tbody tr th:only-of-type {\n",
       "        vertical-align: middle;\n",
       "    }\n",
       "\n",
       "    .dataframe tbody tr th {\n",
       "        vertical-align: top;\n",
       "    }\n",
       "\n",
       "    .dataframe thead th {\n",
       "        text-align: right;\n",
       "    }\n",
       "</style>\n",
       "<table border=\"1\" class=\"dataframe\">\n",
       "  <thead>\n",
       "    <tr style=\"text-align: right;\">\n",
       "      <th></th>\n",
       "      <th>year</th>\n",
       "      <th>quarter</th>\n",
       "      <th>market</th>\n",
       "      <th>dur_stay</th>\n",
       "      <th>mode</th>\n",
       "      <th>purpose</th>\n",
       "      <th>visits</th>\n",
       "      <th>spend</th>\n",
       "      <th>nights</th>\n",
       "      <th>PI</th>\n",
       "      <th>econ</th>\n",
       "      <th>busi</th>\n",
       "      <th>gove</th>\n",
       "      <th>educ</th>\n",
       "      <th>heal</th>\n",
       "      <th>safe</th>\n",
       "      <th>pers</th>\n",
       "      <th>soci</th>\n",
       "      <th>envi</th>\n",
       "    </tr>\n",
       "  </thead>\n",
       "  <tbody>\n",
       "    <tr>\n",
       "      <th>0</th>\n",
       "      <td>2007</td>\n",
       "      <td>Q1</td>\n",
       "      <td>Belgium</td>\n",
       "      <td>&lt;15 nights</td>\n",
       "      <td>Air</td>\n",
       "      <td>Holiday</td>\n",
       "      <td>0.753385</td>\n",
       "      <td>0.087581</td>\n",
       "      <td>0.753385</td>\n",
       "      <td>72.956291</td>\n",
       "      <td>77.120262</td>\n",
       "      <td>66.91304</td>\n",
       "      <td>73.608398</td>\n",
       "      <td>78.600838</td>\n",
       "      <td>81.348824</td>\n",
       "      <td>78.137978</td>\n",
       "      <td>85.221649</td>\n",
       "      <td>59.498726</td>\n",
       "      <td>56.156929</td>\n",
       "    </tr>\n",
       "    <tr>\n",
       "      <th>1</th>\n",
       "      <td>2007</td>\n",
       "      <td>Q1</td>\n",
       "      <td>Belgium</td>\n",
       "      <td>&lt;15 nights</td>\n",
       "      <td>Air</td>\n",
       "      <td>Business</td>\n",
       "      <td>4.625445</td>\n",
       "      <td>1.555299</td>\n",
       "      <td>6.869618</td>\n",
       "      <td>72.956291</td>\n",
       "      <td>77.120262</td>\n",
       "      <td>66.91304</td>\n",
       "      <td>73.608398</td>\n",
       "      <td>78.600838</td>\n",
       "      <td>81.348824</td>\n",
       "      <td>78.137978</td>\n",
       "      <td>85.221649</td>\n",
       "      <td>59.498726</td>\n",
       "      <td>56.156929</td>\n",
       "    </tr>\n",
       "    <tr>\n",
       "      <th>2</th>\n",
       "      <td>2007</td>\n",
       "      <td>Q1</td>\n",
       "      <td>Belgium</td>\n",
       "      <td>&lt;15 nights</td>\n",
       "      <td>Air</td>\n",
       "      <td>VFR</td>\n",
       "      <td>1.225540</td>\n",
       "      <td>0.048458</td>\n",
       "      <td>1.793118</td>\n",
       "      <td>72.956291</td>\n",
       "      <td>77.120262</td>\n",
       "      <td>66.91304</td>\n",
       "      <td>73.608398</td>\n",
       "      <td>78.600838</td>\n",
       "      <td>81.348824</td>\n",
       "      <td>78.137978</td>\n",
       "      <td>85.221649</td>\n",
       "      <td>59.498726</td>\n",
       "      <td>56.156929</td>\n",
       "    </tr>\n",
       "    <tr>\n",
       "      <th>3</th>\n",
       "      <td>2007</td>\n",
       "      <td>Q1</td>\n",
       "      <td>Belgium</td>\n",
       "      <td>&lt;15 nights</td>\n",
       "      <td>Air</td>\n",
       "      <td>Miscellaneous</td>\n",
       "      <td>1.023070</td>\n",
       "      <td>0.208063</td>\n",
       "      <td>1.776455</td>\n",
       "      <td>72.956291</td>\n",
       "      <td>77.120262</td>\n",
       "      <td>66.91304</td>\n",
       "      <td>73.608398</td>\n",
       "      <td>78.600838</td>\n",
       "      <td>81.348824</td>\n",
       "      <td>78.137978</td>\n",
       "      <td>85.221649</td>\n",
       "      <td>59.498726</td>\n",
       "      <td>56.156929</td>\n",
       "    </tr>\n",
       "    <tr>\n",
       "      <th>4</th>\n",
       "      <td>2007</td>\n",
       "      <td>Q1</td>\n",
       "      <td>Belgium</td>\n",
       "      <td>&lt;15 nights</td>\n",
       "      <td>Sea</td>\n",
       "      <td>Holiday</td>\n",
       "      <td>6.439640</td>\n",
       "      <td>0.438086</td>\n",
       "      <td>8.448400</td>\n",
       "      <td>72.956291</td>\n",
       "      <td>77.120262</td>\n",
       "      <td>66.91304</td>\n",
       "      <td>73.608398</td>\n",
       "      <td>78.600838</td>\n",
       "      <td>81.348824</td>\n",
       "      <td>78.137978</td>\n",
       "      <td>85.221649</td>\n",
       "      <td>59.498726</td>\n",
       "      <td>56.156929</td>\n",
       "    </tr>\n",
       "  </tbody>\n",
       "</table>\n",
       "</div>"
      ],
      "text/plain": [
       "   year quarter   market    dur_stay mode        purpose    visits     spend  \\\n",
       "0  2007      Q1  Belgium  <15 nights  Air        Holiday  0.753385  0.087581   \n",
       "1  2007      Q1  Belgium  <15 nights  Air       Business  4.625445  1.555299   \n",
       "2  2007      Q1  Belgium  <15 nights  Air            VFR  1.225540  0.048458   \n",
       "3  2007      Q1  Belgium  <15 nights  Air  Miscellaneous  1.023070  0.208063   \n",
       "4  2007      Q1  Belgium  <15 nights  Sea        Holiday  6.439640  0.438086   \n",
       "\n",
       "     nights         PI       econ      busi       gove       educ       heal  \\\n",
       "0  0.753385  72.956291  77.120262  66.91304  73.608398  78.600838  81.348824   \n",
       "1  6.869618  72.956291  77.120262  66.91304  73.608398  78.600838  81.348824   \n",
       "2  1.793118  72.956291  77.120262  66.91304  73.608398  78.600838  81.348824   \n",
       "3  1.776455  72.956291  77.120262  66.91304  73.608398  78.600838  81.348824   \n",
       "4  8.448400  72.956291  77.120262  66.91304  73.608398  78.600838  81.348824   \n",
       "\n",
       "        safe       pers       soci       envi  \n",
       "0  78.137978  85.221649  59.498726  56.156929  \n",
       "1  78.137978  85.221649  59.498726  56.156929  \n",
       "2  78.137978  85.221649  59.498726  56.156929  \n",
       "3  78.137978  85.221649  59.498726  56.156929  \n",
       "4  78.137978  85.221649  59.498726  56.156929  "
      ]
     },
     "execution_count": 4,
     "metadata": {},
     "output_type": "execute_result"
    }
   ],
   "source": [
    "london.head(5)"
   ]
  },
  {
   "cell_type": "markdown",
   "metadata": {},
   "source": [
    "## Exploration"
   ]
  },
  {
   "cell_type": "markdown",
   "metadata": {},
   "source": [
    "First, we did some exploration on the data. The distribution of international visitors data is skewness."
   ]
  },
  {
   "cell_type": "code",
   "execution_count": 5,
   "metadata": {
    "collapsed": true
   },
   "outputs": [],
   "source": [
    "import seaborn as sns\n",
    "import matplotlib.pyplot as plt"
   ]
  },
  {
   "cell_type": "code",
   "execution_count": 6,
   "metadata": {},
   "outputs": [
    {
     "name": "stderr",
     "output_type": "stream",
     "text": [
      "D:\\Anaconda\\lib\\site-packages\\matplotlib\\axes\\_axes.py:6462: UserWarning: The 'normed' kwarg is deprecated, and has been replaced by the 'density' kwarg.\n",
      "  warnings.warn(\"The 'normed' kwarg is deprecated, and has been \"\n",
      "D:\\Anaconda\\lib\\site-packages\\matplotlib\\axes\\_axes.py:6462: UserWarning: The 'normed' kwarg is deprecated, and has been replaced by the 'density' kwarg.\n",
      "  warnings.warn(\"The 'normed' kwarg is deprecated, and has been \"\n",
      "D:\\Anaconda\\lib\\site-packages\\matplotlib\\axes\\_axes.py:6462: UserWarning: The 'normed' kwarg is deprecated, and has been replaced by the 'density' kwarg.\n",
      "  warnings.warn(\"The 'normed' kwarg is deprecated, and has been \"\n"
     ]
    },
    {
     "data": {
      "text/plain": [
       "<matplotlib.axes._subplots.AxesSubplot at 0x2033775a5f8>"
      ]
     },
     "execution_count": 6,
     "metadata": {},
     "output_type": "execute_result"
    },
    {
     "data": {
      "image/png": "[encoded data removed]",
      "text/plain": [
       "<Figure size 432x288 with 1 Axes>"
      ]
     },
     "metadata": {},
     "output_type": "display_data"
    }
   ],
   "source": [
    "sns.distplot(london['visits'])\n",
    "sns.distplot(london['spend'])\n",
    "sns.distplot(london['nights'])"
   ]
  },
  {
   "cell_type": "code",
   "execution_count": 7,
   "metadata": {},
   "outputs": [
    {
     "data": {
      "text/plain": [
       "count    37174.000000\n",
       "mean         4.872056\n",
       "std          9.781225\n",
       "min          0.000087\n",
       "25%          0.864026\n",
       "50%          1.768055\n",
       "75%          4.300872\n",
       "max        148.192745\n",
       "Name: visits, dtype: float64"
      ]
     },
     "execution_count": 7,
     "metadata": {},
     "output_type": "execute_result"
    }
   ],
   "source": [
    "london['visits'].describe()"
   ]
  },
  {
   "cell_type": "code",
   "execution_count": 8,
   "metadata": {},
   "outputs": [
    {
     "data": {
      "text/plain": [
       "year              2010\n",
       "quarter             Q4\n",
       "market          France\n",
       "dur_stay    <15 nights\n",
       "mode            Tunnel\n",
       "purpose        Holiday\n",
       "visits         148.193\n",
       "spend          41.1873\n",
       "nights          346.32\n",
       "PI             72.6224\n",
       "econ           75.7305\n",
       "busi           64.5721\n",
       "gove           69.0646\n",
       "educ           74.0197\n",
       "heal            80.711\n",
       "safe           79.9651\n",
       "pers           76.9328\n",
       "soci           55.7264\n",
       "envi           76.8789\n",
       "Name: 12352, dtype: object"
      ]
     },
     "execution_count": 8,
     "metadata": {},
     "output_type": "execute_result"
    }
   ],
   "source": [
    "london.loc[london['visits'].idxmax()]"
   ]
  },
  {
   "cell_type": "code",
   "execution_count": 9,
   "metadata": {},
   "outputs": [
    {
     "data": {
      "text/plain": [
       "count    37174.000000\n",
       "mean         3.041566\n",
       "std          6.542163\n",
       "min          0.000000\n",
       "25%          0.362559\n",
       "50%          1.126347\n",
       "75%          3.079309\n",
       "max        252.552031\n",
       "Name: spend, dtype: float64"
      ]
     },
     "execution_count": 9,
     "metadata": {},
     "output_type": "execute_result"
    }
   ],
   "source": [
    "london['spend'].describe()"
   ]
  },
  {
   "cell_type": "code",
   "execution_count": 10,
   "metadata": {},
   "outputs": [
    {
     "data": {
      "text/plain": [
       "year                2017\n",
       "quarter               Q3\n",
       "market      Saudi Arabia\n",
       "dur_stay      <15 nights\n",
       "mode                 Air\n",
       "purpose          Holiday\n",
       "visits           20.3505\n",
       "spend            252.552\n",
       "nights           226.758\n",
       "PI               57.5148\n",
       "econ             63.3526\n",
       "busi             55.2251\n",
       "gove             42.4763\n",
       "educ              60.057\n",
       "heal             77.8395\n",
       "safe             66.1604\n",
       "pers             37.4861\n",
       "soci             53.6364\n",
       "envi             61.3999\n",
       "Name: 36255, dtype: object"
      ]
     },
     "execution_count": 10,
     "metadata": {},
     "output_type": "execute_result"
    }
   ],
   "source": [
    "london.loc[london['spend'].idxmax()]"
   ]
  },
  {
   "cell_type": "code",
   "execution_count": 11,
   "metadata": {},
   "outputs": [
    {
     "data": {
      "text/plain": [
       "count    37174.000000\n",
       "mean        29.184371\n",
       "std         55.654958\n",
       "min          0.000261\n",
       "25%          4.097167\n",
       "50%         10.758644\n",
       "75%         29.194040\n",
       "max       1172.003716\n",
       "Name: nights, dtype: float64"
      ]
     },
     "execution_count": 11,
     "metadata": {},
     "output_type": "execute_result"
    }
   ],
   "source": [
    "london['nights'].describe()"
   ]
  },
  {
   "cell_type": "code",
   "execution_count": 12,
   "metadata": {},
   "outputs": [
    {
     "data": {
      "text/plain": [
       "year               2014\n",
       "quarter              Q2\n",
       "market              USA\n",
       "dur_stay    15+  nights\n",
       "mode                Air\n",
       "purpose           Study\n",
       "visits          10.3359\n",
       "spend           63.1344\n",
       "nights             1172\n",
       "PI              73.1917\n",
       "econ            75.4683\n",
       "busi            75.8496\n",
       "gove            68.0569\n",
       "educ            79.6115\n",
       "heal             78.463\n",
       "safe            72.1386\n",
       "pers            73.5056\n",
       "soci            66.0886\n",
       "envi             69.543\n",
       "Name: 24925, dtype: object"
      ]
     },
     "execution_count": 12,
     "metadata": {},
     "output_type": "execute_result"
    }
   ],
   "source": [
    "london.loc[london['nights'].idxmax()]"
   ]
  },
  {
   "cell_type": "markdown",
   "metadata": {},
   "source": [
    "### New Features"
   ]
  },
  {
   "cell_type": "markdown",
   "metadata": {},
   "source": [
    "We created two columns to calculate nights per visit and spend per visit."
   ]
  },
  {
   "cell_type": "code",
   "execution_count": 13,
   "metadata": {
    "collapsed": true
   },
   "outputs": [],
   "source": [
    "london_1 = london.copy()"
   ]
  },
  {
   "cell_type": "code",
   "execution_count": 14,
   "metadata": {
    "collapsed": true
   },
   "outputs": [],
   "source": [
    "london_1['nightspervisit'] = london_1['nights']/london_1['visits']"
   ]
  },
  {
   "cell_type": "code",
   "execution_count": 15,
   "metadata": {
    "collapsed": true
   },
   "outputs": [],
   "source": [
    "london_1['spendpervisit'] = london_1['spend']/london_1['visits']"
   ]
  },
  {
   "cell_type": "code",
   "execution_count": 16,
   "metadata": {},
   "outputs": [
    {
     "data": {
      "text/html": [
       "<div>\n",
       "<style scoped>\n",
       "    .dataframe tbody tr th:only-of-type {\n",
       "        vertical-align: middle;\n",
       "    }\n",
       "\n",
       "    .dataframe tbody tr th {\n",
       "        vertical-align: top;\n",
       "    }\n",
       "\n",
       "    .dataframe thead th {\n",
       "        text-align: right;\n",
       "    }\n",
       "</style>\n",
       "<table border=\"1\" class=\"dataframe\">\n",
       "  <thead>\n",
       "    <tr style=\"text-align: right;\">\n",
       "      <th></th>\n",
       "      <th>year</th>\n",
       "      <th>quarter</th>\n",
       "      <th>market</th>\n",
       "      <th>dur_stay</th>\n",
       "      <th>mode</th>\n",
       "      <th>purpose</th>\n",
       "      <th>visits</th>\n",
       "      <th>spend</th>\n",
       "      <th>nights</th>\n",
       "      <th>PI</th>\n",
       "      <th>...</th>\n",
       "      <th>busi</th>\n",
       "      <th>gove</th>\n",
       "      <th>educ</th>\n",
       "      <th>heal</th>\n",
       "      <th>safe</th>\n",
       "      <th>pers</th>\n",
       "      <th>soci</th>\n",
       "      <th>envi</th>\n",
       "      <th>nightspervisit</th>\n",
       "      <th>spendpervisit</th>\n",
       "    </tr>\n",
       "  </thead>\n",
       "  <tbody>\n",
       "    <tr>\n",
       "      <th>0</th>\n",
       "      <td>2007</td>\n",
       "      <td>Q1</td>\n",
       "      <td>Belgium</td>\n",
       "      <td>&lt;15 nights</td>\n",
       "      <td>Air</td>\n",
       "      <td>Holiday</td>\n",
       "      <td>0.753385</td>\n",
       "      <td>0.087581</td>\n",
       "      <td>0.753385</td>\n",
       "      <td>72.956291</td>\n",
       "      <td>...</td>\n",
       "      <td>66.91304</td>\n",
       "      <td>73.608398</td>\n",
       "      <td>78.600838</td>\n",
       "      <td>81.348824</td>\n",
       "      <td>78.137978</td>\n",
       "      <td>85.221649</td>\n",
       "      <td>59.498726</td>\n",
       "      <td>56.156929</td>\n",
       "      <td>1.000000</td>\n",
       "      <td>0.116250</td>\n",
       "    </tr>\n",
       "    <tr>\n",
       "      <th>1</th>\n",
       "      <td>2007</td>\n",
       "      <td>Q1</td>\n",
       "      <td>Belgium</td>\n",
       "      <td>&lt;15 nights</td>\n",
       "      <td>Air</td>\n",
       "      <td>Business</td>\n",
       "      <td>4.625445</td>\n",
       "      <td>1.555299</td>\n",
       "      <td>6.869618</td>\n",
       "      <td>72.956291</td>\n",
       "      <td>...</td>\n",
       "      <td>66.91304</td>\n",
       "      <td>73.608398</td>\n",
       "      <td>78.600838</td>\n",
       "      <td>81.348824</td>\n",
       "      <td>78.137978</td>\n",
       "      <td>85.221649</td>\n",
       "      <td>59.498726</td>\n",
       "      <td>56.156929</td>\n",
       "      <td>1.485180</td>\n",
       "      <td>0.336248</td>\n",
       "    </tr>\n",
       "    <tr>\n",
       "      <th>2</th>\n",
       "      <td>2007</td>\n",
       "      <td>Q1</td>\n",
       "      <td>Belgium</td>\n",
       "      <td>&lt;15 nights</td>\n",
       "      <td>Air</td>\n",
       "      <td>VFR</td>\n",
       "      <td>1.225540</td>\n",
       "      <td>0.048458</td>\n",
       "      <td>1.793118</td>\n",
       "      <td>72.956291</td>\n",
       "      <td>...</td>\n",
       "      <td>66.91304</td>\n",
       "      <td>73.608398</td>\n",
       "      <td>78.600838</td>\n",
       "      <td>81.348824</td>\n",
       "      <td>78.137978</td>\n",
       "      <td>85.221649</td>\n",
       "      <td>59.498726</td>\n",
       "      <td>56.156929</td>\n",
       "      <td>1.463125</td>\n",
       "      <td>0.039540</td>\n",
       "    </tr>\n",
       "    <tr>\n",
       "      <th>3</th>\n",
       "      <td>2007</td>\n",
       "      <td>Q1</td>\n",
       "      <td>Belgium</td>\n",
       "      <td>&lt;15 nights</td>\n",
       "      <td>Air</td>\n",
       "      <td>Miscellaneous</td>\n",
       "      <td>1.023070</td>\n",
       "      <td>0.208063</td>\n",
       "      <td>1.776455</td>\n",
       "      <td>72.956291</td>\n",
       "      <td>...</td>\n",
       "      <td>66.91304</td>\n",
       "      <td>73.608398</td>\n",
       "      <td>78.600838</td>\n",
       "      <td>81.348824</td>\n",
       "      <td>78.137978</td>\n",
       "      <td>85.221649</td>\n",
       "      <td>59.498726</td>\n",
       "      <td>56.156929</td>\n",
       "      <td>1.736396</td>\n",
       "      <td>0.203372</td>\n",
       "    </tr>\n",
       "    <tr>\n",
       "      <th>4</th>\n",
       "      <td>2007</td>\n",
       "      <td>Q1</td>\n",
       "      <td>Belgium</td>\n",
       "      <td>&lt;15 nights</td>\n",
       "      <td>Sea</td>\n",
       "      <td>Holiday</td>\n",
       "      <td>6.439640</td>\n",
       "      <td>0.438086</td>\n",
       "      <td>8.448400</td>\n",
       "      <td>72.956291</td>\n",
       "      <td>...</td>\n",
       "      <td>66.91304</td>\n",
       "      <td>73.608398</td>\n",
       "      <td>78.600838</td>\n",
       "      <td>81.348824</td>\n",
       "      <td>78.137978</td>\n",
       "      <td>85.221649</td>\n",
       "      <td>59.498726</td>\n",
       "      <td>56.156929</td>\n",
       "      <td>1.311937</td>\n",
       "      <td>0.068030</td>\n",
       "    </tr>\n",
       "  </tbody>\n",
       "</table>\n",
       "<p>5 rows × 21 columns</p>\n",
       "</div>"
      ],
      "text/plain": [
       "   year quarter   market    dur_stay mode        purpose    visits     spend  \\\n",
       "0  2007      Q1  Belgium  <15 nights  Air        Holiday  0.753385  0.087581   \n",
       "1  2007      Q1  Belgium  <15 nights  Air       Business  4.625445  1.555299   \n",
       "2  2007      Q1  Belgium  <15 nights  Air            VFR  1.225540  0.048458   \n",
       "3  2007      Q1  Belgium  <15 nights  Air  Miscellaneous  1.023070  0.208063   \n",
       "4  2007      Q1  Belgium  <15 nights  Sea        Holiday  6.439640  0.438086   \n",
       "\n",
       "     nights         PI      ...            busi       gove       educ  \\\n",
       "0  0.753385  72.956291      ...        66.91304  73.608398  78.600838   \n",
       "1  6.869618  72.956291      ...        66.91304  73.608398  78.600838   \n",
       "2  1.793118  72.956291      ...        66.91304  73.608398  78.600838   \n",
       "3  1.776455  72.956291      ...        66.91304  73.608398  78.600838   \n",
       "4  8.448400  72.956291      ...        66.91304  73.608398  78.600838   \n",
       "\n",
       "        heal       safe       pers       soci       envi  nightspervisit  \\\n",
       "0  81.348824  78.137978  85.221649  59.498726  56.156929        1.000000   \n",
       "1  81.348824  78.137978  85.221649  59.498726  56.156929        1.485180   \n",
       "2  81.348824  78.137978  85.221649  59.498726  56.156929        1.463125   \n",
       "3  81.348824  78.137978  85.221649  59.498726  56.156929        1.736396   \n",
       "4  81.348824  78.137978  85.221649  59.498726  56.156929        1.311937   \n",
       "\n",
       "   spendpervisit  \n",
       "0       0.116250  \n",
       "1       0.336248  \n",
       "2       0.039540  \n",
       "3       0.203372  \n",
       "4       0.068030  \n",
       "\n",
       "[5 rows x 21 columns]"
      ]
     },
     "execution_count": 16,
     "metadata": {},
     "output_type": "execute_result"
    }
   ],
   "source": [
    "london_1.head()"
   ]
  },
  {
   "cell_type": "code",
   "execution_count": 17,
   "metadata": {},
   "outputs": [
    {
     "data": {
      "text/plain": [
       "count    37174.000000\n",
       "mean        10.287924\n",
       "std         20.615972\n",
       "min          0.020088\n",
       "25%          2.474923\n",
       "50%          4.827564\n",
       "75%          9.565308\n",
       "max        356.998624\n",
       "Name: nightspervisit, dtype: float64"
      ]
     },
     "execution_count": 17,
     "metadata": {},
     "output_type": "execute_result"
    }
   ],
   "source": [
    "london_1['nightspervisit'].describe()"
   ]
  },
  {
   "cell_type": "code",
   "execution_count": 18,
   "metadata": {},
   "outputs": [
    {
     "data": {
      "text/plain": [
       "<matplotlib.axes._subplots.AxesSubplot at 0x20338cb3be0>"
      ]
     },
     "execution_count": 18,
     "metadata": {},
     "output_type": "execute_result"
    },
    {
     "data": {
      "image/png": "[encoded data removed]",
      "text/plain": [
       "<Figure size 432x288 with 1 Axes>"
      ]
     },
     "metadata": {},
     "output_type": "display_data"
    }
   ],
   "source": [
    "london_1.plot.scatter(x='nightspervisit', y='spendpervisit')"
   ]
  },
  {
   "cell_type": "markdown",
   "metadata": {},
   "source": [
    "There are some outliers here."
   ]
  },
  {
   "cell_type": "code",
   "execution_count": 19,
   "metadata": {
    "collapsed": true
   },
   "outputs": [],
   "source": [
    "lowspend = london_1.loc[london_1['spendpervisit'] < london_1['spendpervisit'].quantile(0.05)]"
   ]
  },
  {
   "cell_type": "code",
   "execution_count": 20,
   "metadata": {
    "collapsed": true
   },
   "outputs": [],
   "source": [
    "bad =lowspend.loc[lowspend['nightspervisit'] > london_1['nightspervisit'].quantile(0.95)]"
   ]
  },
  {
   "cell_type": "code",
   "execution_count": 21,
   "metadata": {},
   "outputs": [
    {
     "data": {
      "text/html": [
       "<div>\n",
       "<style scoped>\n",
       "    .dataframe tbody tr th:only-of-type {\n",
       "        vertical-align: middle;\n",
       "    }\n",
       "\n",
       "    .dataframe tbody tr th {\n",
       "        vertical-align: top;\n",
       "    }\n",
       "\n",
       "    .dataframe thead th {\n",
       "        text-align: right;\n",
       "    }\n",
       "</style>\n",
       "<table border=\"1\" class=\"dataframe\">\n",
       "  <thead>\n",
       "    <tr style=\"text-align: right;\">\n",
       "      <th></th>\n",
       "      <th>year</th>\n",
       "      <th>quarter</th>\n",
       "      <th>market</th>\n",
       "      <th>dur_stay</th>\n",
       "      <th>mode</th>\n",
       "      <th>purpose</th>\n",
       "      <th>visits</th>\n",
       "      <th>spend</th>\n",
       "      <th>nights</th>\n",
       "      <th>PI</th>\n",
       "      <th>...</th>\n",
       "      <th>busi</th>\n",
       "      <th>gove</th>\n",
       "      <th>educ</th>\n",
       "      <th>heal</th>\n",
       "      <th>safe</th>\n",
       "      <th>pers</th>\n",
       "      <th>soci</th>\n",
       "      <th>envi</th>\n",
       "      <th>nightspervisit</th>\n",
       "      <th>spendpervisit</th>\n",
       "    </tr>\n",
       "  </thead>\n",
       "  <tbody>\n",
       "    <tr>\n",
       "      <th>177</th>\n",
       "      <td>2007</td>\n",
       "      <td>Q1</td>\n",
       "      <td>Spain</td>\n",
       "      <td>15+  nights</td>\n",
       "      <td>Air</td>\n",
       "      <td>Business</td>\n",
       "      <td>0.530157</td>\n",
       "      <td>0.007725</td>\n",
       "      <td>26.543699</td>\n",
       "      <td>70.841774</td>\n",
       "      <td>...</td>\n",
       "      <td>59.830273</td>\n",
       "      <td>67.208260</td>\n",
       "      <td>70.257942</td>\n",
       "      <td>80.298950</td>\n",
       "      <td>76.741783</td>\n",
       "      <td>86.134651</td>\n",
       "      <td>56.393642</td>\n",
       "      <td>67.100739</td>\n",
       "      <td>50.067617</td>\n",
       "      <td>0.014571</td>\n",
       "    </tr>\n",
       "    <tr>\n",
       "      <th>1327</th>\n",
       "      <td>2007</td>\n",
       "      <td>Q2</td>\n",
       "      <td>Other Asia</td>\n",
       "      <td>15+  nights</td>\n",
       "      <td>Air</td>\n",
       "      <td>Holiday</td>\n",
       "      <td>0.529238</td>\n",
       "      <td>0.007442</td>\n",
       "      <td>42.758499</td>\n",
       "      <td>51.434590</td>\n",
       "      <td>...</td>\n",
       "      <td>42.258223</td>\n",
       "      <td>38.092098</td>\n",
       "      <td>52.274449</td>\n",
       "      <td>65.782844</td>\n",
       "      <td>61.081953</td>\n",
       "      <td>48.152661</td>\n",
       "      <td>45.016279</td>\n",
       "      <td>52.923450</td>\n",
       "      <td>80.792574</td>\n",
       "      <td>0.014062</td>\n",
       "    </tr>\n",
       "    <tr>\n",
       "      <th>1424</th>\n",
       "      <td>2007</td>\n",
       "      <td>Q2</td>\n",
       "      <td>United Arab Emirates</td>\n",
       "      <td>15+  nights</td>\n",
       "      <td>Air</td>\n",
       "      <td>Miscellaneous</td>\n",
       "      <td>0.358202</td>\n",
       "      <td>0.005015</td>\n",
       "      <td>13.253500</td>\n",
       "      <td>61.101753</td>\n",
       "      <td>...</td>\n",
       "      <td>52.791737</td>\n",
       "      <td>48.831989</td>\n",
       "      <td>59.942955</td>\n",
       "      <td>77.575127</td>\n",
       "      <td>80.370216</td>\n",
       "      <td>49.087570</td>\n",
       "      <td>52.181820</td>\n",
       "      <td>62.051483</td>\n",
       "      <td>37.000071</td>\n",
       "      <td>0.014000</td>\n",
       "    </tr>\n",
       "    <tr>\n",
       "      <th>2752</th>\n",
       "      <td>2007</td>\n",
       "      <td>Q4</td>\n",
       "      <td>Switzerland</td>\n",
       "      <td>15+  nights</td>\n",
       "      <td>Air</td>\n",
       "      <td>VFR</td>\n",
       "      <td>0.297124</td>\n",
       "      <td>0.000000</td>\n",
       "      <td>92.108398</td>\n",
       "      <td>76.102150</td>\n",
       "      <td>...</td>\n",
       "      <td>71.499596</td>\n",
       "      <td>79.685928</td>\n",
       "      <td>76.621262</td>\n",
       "      <td>82.215889</td>\n",
       "      <td>81.970047</td>\n",
       "      <td>82.079239</td>\n",
       "      <td>61.285454</td>\n",
       "      <td>72.694366</td>\n",
       "      <td>309.999862</td>\n",
       "      <td>0.000000</td>\n",
       "    </tr>\n",
       "    <tr>\n",
       "      <th>2865</th>\n",
       "      <td>2007</td>\n",
       "      <td>Q4</td>\n",
       "      <td>Other Eastern Europe</td>\n",
       "      <td>&lt;15 nights</td>\n",
       "      <td>Tunnel</td>\n",
       "      <td>VFR</td>\n",
       "      <td>1.369580</td>\n",
       "      <td>0.000000</td>\n",
       "      <td>59.511299</td>\n",
       "      <td>58.557903</td>\n",
       "      <td>...</td>\n",
       "      <td>46.372450</td>\n",
       "      <td>49.825510</td>\n",
       "      <td>62.613741</td>\n",
       "      <td>70.659870</td>\n",
       "      <td>70.565286</td>\n",
       "      <td>62.877428</td>\n",
       "      <td>44.372782</td>\n",
       "      <td>56.550217</td>\n",
       "      <td>43.452225</td>\n",
       "      <td>0.000000</td>\n",
       "    </tr>\n",
       "  </tbody>\n",
       "</table>\n",
       "<p>5 rows × 21 columns</p>\n",
       "</div>"
      ],
      "text/plain": [
       "      year quarter                market     dur_stay    mode        purpose  \\\n",
       "177   2007      Q1                 Spain  15+  nights     Air       Business   \n",
       "1327  2007      Q2            Other Asia  15+  nights     Air        Holiday   \n",
       "1424  2007      Q2  United Arab Emirates  15+  nights     Air  Miscellaneous   \n",
       "2752  2007      Q4           Switzerland  15+  nights     Air            VFR   \n",
       "2865  2007      Q4  Other Eastern Europe   <15 nights  Tunnel            VFR   \n",
       "\n",
       "        visits     spend     nights         PI      ...             busi  \\\n",
       "177   0.530157  0.007725  26.543699  70.841774      ...        59.830273   \n",
       "1327  0.529238  0.007442  42.758499  51.434590      ...        42.258223   \n",
       "1424  0.358202  0.005015  13.253500  61.101753      ...        52.791737   \n",
       "2752  0.297124  0.000000  92.108398  76.102150      ...        71.499596   \n",
       "2865  1.369580  0.000000  59.511299  58.557903      ...        46.372450   \n",
       "\n",
       "           gove       educ       heal       safe       pers       soci  \\\n",
       "177   67.208260  70.257942  80.298950  76.741783  86.134651  56.393642   \n",
       "1327  38.092098  52.274449  65.782844  61.081953  48.152661  45.016279   \n",
       "1424  48.831989  59.942955  77.575127  80.370216  49.087570  52.181820   \n",
       "2752  79.685928  76.621262  82.215889  81.970047  82.079239  61.285454   \n",
       "2865  49.825510  62.613741  70.659870  70.565286  62.877428  44.372782   \n",
       "\n",
       "           envi  nightspervisit  spendpervisit  \n",
       "177   67.100739       50.067617       0.014571  \n",
       "1327  52.923450       80.792574       0.014062  \n",
       "1424  62.051483       37.000071       0.014000  \n",
       "2752  72.694366      309.999862       0.000000  \n",
       "2865  56.550217       43.452225       0.000000  \n",
       "\n",
       "[5 rows x 21 columns]"
      ]
     },
     "execution_count": 21,
     "metadata": {},
     "output_type": "execute_result"
    }
   ],
   "source": [
    "bad.head()"
   ]
  },
  {
   "cell_type": "markdown",
   "metadata": {},
   "source": [
    "There are some tourists who stayed a longer period in London but spend extremely less."
   ]
  },
  {
   "cell_type": "markdown",
   "metadata": {},
   "source": [
    "## Data Manipulation"
   ]
  },
  {
   "cell_type": "markdown",
   "metadata": {},
   "source": [
    "### Standardization"
   ]
  },
  {
   "cell_type": "markdown",
   "metadata": {},
   "source": [
    "We standarized index data."
   ]
  },
  {
   "cell_type": "code",
   "execution_count": 22,
   "metadata": {
    "collapsed": true
   },
   "outputs": [],
   "source": [
    "london_2 = london.copy()"
   ]
  },
  {
   "cell_type": "code",
   "execution_count": 23,
   "metadata": {
    "collapsed": true
   },
   "outputs": [],
   "source": [
    "for col_name in london_2.columns[6:19]:\n",
    "    new_col_name = col_name + '_std'\n",
    "    london_2[new_col_name] = (london_2[col_name] - london_2[col_name].mean())/london_2[col_name].std()"
   ]
  },
  {
   "cell_type": "code",
   "execution_count": 24,
   "metadata": {},
   "outputs": [
    {
     "data": {
      "text/html": [
       "<div>\n",
       "<style scoped>\n",
       "    .dataframe tbody tr th:only-of-type {\n",
       "        vertical-align: middle;\n",
       "    }\n",
       "\n",
       "    .dataframe tbody tr th {\n",
       "        vertical-align: top;\n",
       "    }\n",
       "\n",
       "    .dataframe thead th {\n",
       "        text-align: right;\n",
       "    }\n",
       "</style>\n",
       "<table border=\"1\" class=\"dataframe\">\n",
       "  <thead>\n",
       "    <tr style=\"text-align: right;\">\n",
       "      <th></th>\n",
       "      <th>year</th>\n",
       "      <th>quarter</th>\n",
       "      <th>market</th>\n",
       "      <th>dur_stay</th>\n",
       "      <th>mode</th>\n",
       "      <th>purpose</th>\n",
       "      <th>visits</th>\n",
       "      <th>spend</th>\n",
       "      <th>nights</th>\n",
       "      <th>PI</th>\n",
       "      <th>...</th>\n",
       "      <th>PI_std</th>\n",
       "      <th>econ_std</th>\n",
       "      <th>busi_std</th>\n",
       "      <th>gove_std</th>\n",
       "      <th>educ_std</th>\n",
       "      <th>heal_std</th>\n",
       "      <th>safe_std</th>\n",
       "      <th>pers_std</th>\n",
       "      <th>soci_std</th>\n",
       "      <th>envi_std</th>\n",
       "    </tr>\n",
       "  </thead>\n",
       "  <tbody>\n",
       "    <tr>\n",
       "      <th>0</th>\n",
       "      <td>2007</td>\n",
       "      <td>Q1</td>\n",
       "      <td>Belgium</td>\n",
       "      <td>&lt;15 nights</td>\n",
       "      <td>Air</td>\n",
       "      <td>Holiday</td>\n",
       "      <td>0.753385</td>\n",
       "      <td>0.087581</td>\n",
       "      <td>0.753385</td>\n",
       "      <td>72.956291</td>\n",
       "      <td>...</td>\n",
       "      <td>0.722575</td>\n",
       "      <td>0.972559</td>\n",
       "      <td>0.619921</td>\n",
       "      <td>0.782733</td>\n",
       "      <td>1.011442</td>\n",
       "      <td>0.728396</td>\n",
       "      <td>0.439758</td>\n",
       "      <td>0.991503</td>\n",
       "      <td>0.593672</td>\n",
       "      <td>-1.013508</td>\n",
       "    </tr>\n",
       "    <tr>\n",
       "      <th>1</th>\n",
       "      <td>2007</td>\n",
       "      <td>Q1</td>\n",
       "      <td>Belgium</td>\n",
       "      <td>&lt;15 nights</td>\n",
       "      <td>Air</td>\n",
       "      <td>Business</td>\n",
       "      <td>4.625445</td>\n",
       "      <td>1.555299</td>\n",
       "      <td>6.869618</td>\n",
       "      <td>72.956291</td>\n",
       "      <td>...</td>\n",
       "      <td>0.722575</td>\n",
       "      <td>0.972559</td>\n",
       "      <td>0.619921</td>\n",
       "      <td>0.782733</td>\n",
       "      <td>1.011442</td>\n",
       "      <td>0.728396</td>\n",
       "      <td>0.439758</td>\n",
       "      <td>0.991503</td>\n",
       "      <td>0.593672</td>\n",
       "      <td>-1.013508</td>\n",
       "    </tr>\n",
       "    <tr>\n",
       "      <th>2</th>\n",
       "      <td>2007</td>\n",
       "      <td>Q1</td>\n",
       "      <td>Belgium</td>\n",
       "      <td>&lt;15 nights</td>\n",
       "      <td>Air</td>\n",
       "      <td>VFR</td>\n",
       "      <td>1.225540</td>\n",
       "      <td>0.048458</td>\n",
       "      <td>1.793118</td>\n",
       "      <td>72.956291</td>\n",
       "      <td>...</td>\n",
       "      <td>0.722575</td>\n",
       "      <td>0.972559</td>\n",
       "      <td>0.619921</td>\n",
       "      <td>0.782733</td>\n",
       "      <td>1.011442</td>\n",
       "      <td>0.728396</td>\n",
       "      <td>0.439758</td>\n",
       "      <td>0.991503</td>\n",
       "      <td>0.593672</td>\n",
       "      <td>-1.013508</td>\n",
       "    </tr>\n",
       "    <tr>\n",
       "      <th>3</th>\n",
       "      <td>2007</td>\n",
       "      <td>Q1</td>\n",
       "      <td>Belgium</td>\n",
       "      <td>&lt;15 nights</td>\n",
       "      <td>Air</td>\n",
       "      <td>Miscellaneous</td>\n",
       "      <td>1.023070</td>\n",
       "      <td>0.208063</td>\n",
       "      <td>1.776455</td>\n",
       "      <td>72.956291</td>\n",
       "      <td>...</td>\n",
       "      <td>0.722575</td>\n",
       "      <td>0.972559</td>\n",
       "      <td>0.619921</td>\n",
       "      <td>0.782733</td>\n",
       "      <td>1.011442</td>\n",
       "      <td>0.728396</td>\n",
       "      <td>0.439758</td>\n",
       "      <td>0.991503</td>\n",
       "      <td>0.593672</td>\n",
       "      <td>-1.013508</td>\n",
       "    </tr>\n",
       "    <tr>\n",
       "      <th>4</th>\n",
       "      <td>2007</td>\n",
       "      <td>Q1</td>\n",
       "      <td>Belgium</td>\n",
       "      <td>&lt;15 nights</td>\n",
       "      <td>Sea</td>\n",
       "      <td>Holiday</td>\n",
       "      <td>6.439640</td>\n",
       "      <td>0.438086</td>\n",
       "      <td>8.448400</td>\n",
       "      <td>72.956291</td>\n",
       "      <td>...</td>\n",
       "      <td>0.722575</td>\n",
       "      <td>0.972559</td>\n",
       "      <td>0.619921</td>\n",
       "      <td>0.782733</td>\n",
       "      <td>1.011442</td>\n",
       "      <td>0.728396</td>\n",
       "      <td>0.439758</td>\n",
       "      <td>0.991503</td>\n",
       "      <td>0.593672</td>\n",
       "      <td>-1.013508</td>\n",
       "    </tr>\n",
       "  </tbody>\n",
       "</table>\n",
       "<p>5 rows × 32 columns</p>\n",
       "</div>"
      ],
      "text/plain": [
       "   year quarter   market    dur_stay mode        purpose    visits     spend  \\\n",
       "0  2007      Q1  Belgium  <15 nights  Air        Holiday  0.753385  0.087581   \n",
       "1  2007      Q1  Belgium  <15 nights  Air       Business  4.625445  1.555299   \n",
       "2  2007      Q1  Belgium  <15 nights  Air            VFR  1.225540  0.048458   \n",
       "3  2007      Q1  Belgium  <15 nights  Air  Miscellaneous  1.023070  0.208063   \n",
       "4  2007      Q1  Belgium  <15 nights  Sea        Holiday  6.439640  0.438086   \n",
       "\n",
       "     nights         PI    ...       PI_std  econ_std  busi_std  gove_std  \\\n",
       "0  0.753385  72.956291    ...     0.722575  0.972559  0.619921  0.782733   \n",
       "1  6.869618  72.956291    ...     0.722575  0.972559  0.619921  0.782733   \n",
       "2  1.793118  72.956291    ...     0.722575  0.972559  0.619921  0.782733   \n",
       "3  1.776455  72.956291    ...     0.722575  0.972559  0.619921  0.782733   \n",
       "4  8.448400  72.956291    ...     0.722575  0.972559  0.619921  0.782733   \n",
       "\n",
       "   educ_std  heal_std  safe_std  pers_std  soci_std  envi_std  \n",
       "0  1.011442  0.728396  0.439758  0.991503  0.593672 -1.013508  \n",
       "1  1.011442  0.728396  0.439758  0.991503  0.593672 -1.013508  \n",
       "2  1.011442  0.728396  0.439758  0.991503  0.593672 -1.013508  \n",
       "3  1.011442  0.728396  0.439758  0.991503  0.593672 -1.013508  \n",
       "4  1.011442  0.728396  0.439758  0.991503  0.593672 -1.013508  \n",
       "\n",
       "[5 rows x 32 columns]"
      ]
     },
     "execution_count": 24,
     "metadata": {},
     "output_type": "execute_result"
    }
   ],
   "source": [
    "london_2.head()"
   ]
  },
  {
   "cell_type": "code",
   "execution_count": 25,
   "metadata": {
    "collapsed": true
   },
   "outputs": [],
   "source": [
    "london_2 = london_2.drop(london_2.columns[6:19],axis=1)"
   ]
  },
  {
   "cell_type": "code",
   "execution_count": 26,
   "metadata": {},
   "outputs": [
    {
     "data": {
      "text/html": [
       "<div>\n",
       "<style scoped>\n",
       "    .dataframe tbody tr th:only-of-type {\n",
       "        vertical-align: middle;\n",
       "    }\n",
       "\n",
       "    .dataframe tbody tr th {\n",
       "        vertical-align: top;\n",
       "    }\n",
       "\n",
       "    .dataframe thead th {\n",
       "        text-align: right;\n",
       "    }\n",
       "</style>\n",
       "<table border=\"1\" class=\"dataframe\">\n",
       "  <thead>\n",
       "    <tr style=\"text-align: right;\">\n",
       "      <th></th>\n",
       "      <th>year</th>\n",
       "      <th>quarter</th>\n",
       "      <th>market</th>\n",
       "      <th>dur_stay</th>\n",
       "      <th>mode</th>\n",
       "      <th>purpose</th>\n",
       "      <th>visits_std</th>\n",
       "      <th>spend_std</th>\n",
       "      <th>nights_std</th>\n",
       "      <th>PI_std</th>\n",
       "      <th>econ_std</th>\n",
       "      <th>busi_std</th>\n",
       "      <th>gove_std</th>\n",
       "      <th>educ_std</th>\n",
       "      <th>heal_std</th>\n",
       "      <th>safe_std</th>\n",
       "      <th>pers_std</th>\n",
       "      <th>soci_std</th>\n",
       "      <th>envi_std</th>\n",
       "    </tr>\n",
       "  </thead>\n",
       "  <tbody>\n",
       "    <tr>\n",
       "      <th>0</th>\n",
       "      <td>2007</td>\n",
       "      <td>Q1</td>\n",
       "      <td>Belgium</td>\n",
       "      <td>&lt;15 nights</td>\n",
       "      <td>Air</td>\n",
       "      <td>Holiday</td>\n",
       "      <td>-0.421079</td>\n",
       "      <td>-0.451530</td>\n",
       "      <td>-0.510844</td>\n",
       "      <td>0.722575</td>\n",
       "      <td>0.972559</td>\n",
       "      <td>0.619921</td>\n",
       "      <td>0.782733</td>\n",
       "      <td>1.011442</td>\n",
       "      <td>0.728396</td>\n",
       "      <td>0.439758</td>\n",
       "      <td>0.991503</td>\n",
       "      <td>0.593672</td>\n",
       "      <td>-1.013508</td>\n",
       "    </tr>\n",
       "    <tr>\n",
       "      <th>1</th>\n",
       "      <td>2007</td>\n",
       "      <td>Q1</td>\n",
       "      <td>Belgium</td>\n",
       "      <td>&lt;15 nights</td>\n",
       "      <td>Air</td>\n",
       "      <td>Business</td>\n",
       "      <td>-0.025213</td>\n",
       "      <td>-0.227183</td>\n",
       "      <td>-0.400948</td>\n",
       "      <td>0.722575</td>\n",
       "      <td>0.972559</td>\n",
       "      <td>0.619921</td>\n",
       "      <td>0.782733</td>\n",
       "      <td>1.011442</td>\n",
       "      <td>0.728396</td>\n",
       "      <td>0.439758</td>\n",
       "      <td>0.991503</td>\n",
       "      <td>0.593672</td>\n",
       "      <td>-1.013508</td>\n",
       "    </tr>\n",
       "    <tr>\n",
       "      <th>2</th>\n",
       "      <td>2007</td>\n",
       "      <td>Q1</td>\n",
       "      <td>Belgium</td>\n",
       "      <td>&lt;15 nights</td>\n",
       "      <td>Air</td>\n",
       "      <td>VFR</td>\n",
       "      <td>-0.372808</td>\n",
       "      <td>-0.457511</td>\n",
       "      <td>-0.492162</td>\n",
       "      <td>0.722575</td>\n",
       "      <td>0.972559</td>\n",
       "      <td>0.619921</td>\n",
       "      <td>0.782733</td>\n",
       "      <td>1.011442</td>\n",
       "      <td>0.728396</td>\n",
       "      <td>0.439758</td>\n",
       "      <td>0.991503</td>\n",
       "      <td>0.593672</td>\n",
       "      <td>-1.013508</td>\n",
       "    </tr>\n",
       "    <tr>\n",
       "      <th>3</th>\n",
       "      <td>2007</td>\n",
       "      <td>Q1</td>\n",
       "      <td>Belgium</td>\n",
       "      <td>&lt;15 nights</td>\n",
       "      <td>Air</td>\n",
       "      <td>Miscellaneous</td>\n",
       "      <td>-0.393508</td>\n",
       "      <td>-0.433114</td>\n",
       "      <td>-0.492461</td>\n",
       "      <td>0.722575</td>\n",
       "      <td>0.972559</td>\n",
       "      <td>0.619921</td>\n",
       "      <td>0.782733</td>\n",
       "      <td>1.011442</td>\n",
       "      <td>0.728396</td>\n",
       "      <td>0.439758</td>\n",
       "      <td>0.991503</td>\n",
       "      <td>0.593672</td>\n",
       "      <td>-1.013508</td>\n",
       "    </tr>\n",
       "    <tr>\n",
       "      <th>4</th>\n",
       "      <td>2007</td>\n",
       "      <td>Q1</td>\n",
       "      <td>Belgium</td>\n",
       "      <td>&lt;15 nights</td>\n",
       "      <td>Sea</td>\n",
       "      <td>Holiday</td>\n",
       "      <td>0.160265</td>\n",
       "      <td>-0.397954</td>\n",
       "      <td>-0.372581</td>\n",
       "      <td>0.722575</td>\n",
       "      <td>0.972559</td>\n",
       "      <td>0.619921</td>\n",
       "      <td>0.782733</td>\n",
       "      <td>1.011442</td>\n",
       "      <td>0.728396</td>\n",
       "      <td>0.439758</td>\n",
       "      <td>0.991503</td>\n",
       "      <td>0.593672</td>\n",
       "      <td>-1.013508</td>\n",
       "    </tr>\n",
       "  </tbody>\n",
       "</table>\n",
       "</div>"
      ],
      "text/plain": [
       "   year quarter   market    dur_stay mode        purpose  visits_std  \\\n",
       "0  2007      Q1  Belgium  <15 nights  Air        Holiday   -0.421079   \n",
       "1  2007      Q1  Belgium  <15 nights  Air       Business   -0.025213   \n",
       "2  2007      Q1  Belgium  <15 nights  Air            VFR   -0.372808   \n",
       "3  2007      Q1  Belgium  <15 nights  Air  Miscellaneous   -0.393508   \n",
       "4  2007      Q1  Belgium  <15 nights  Sea        Holiday    0.160265   \n",
       "\n",
       "   spend_std  nights_std    PI_std  econ_std  busi_std  gove_std  educ_std  \\\n",
       "0  -0.451530   -0.510844  0.722575  0.972559  0.619921  0.782733  1.011442   \n",
       "1  -0.227183   -0.400948  0.722575  0.972559  0.619921  0.782733  1.011442   \n",
       "2  -0.457511   -0.492162  0.722575  0.972559  0.619921  0.782733  1.011442   \n",
       "3  -0.433114   -0.492461  0.722575  0.972559  0.619921  0.782733  1.011442   \n",
       "4  -0.397954   -0.372581  0.722575  0.972559  0.619921  0.782733  1.011442   \n",
       "\n",
       "   heal_std  safe_std  pers_std  soci_std  envi_std  \n",
       "0  0.728396  0.439758  0.991503  0.593672 -1.013508  \n",
       "1  0.728396  0.439758  0.991503  0.593672 -1.013508  \n",
       "2  0.728396  0.439758  0.991503  0.593672 -1.013508  \n",
       "3  0.728396  0.439758  0.991503  0.593672 -1.013508  \n",
       "4  0.728396  0.439758  0.991503  0.593672 -1.013508  "
      ]
     },
     "execution_count": 26,
     "metadata": {},
     "output_type": "execute_result"
    }
   ],
   "source": [
    "london_2.head()"
   ]
  },
  {
   "cell_type": "code",
   "execution_count": 27,
   "metadata": {
    "collapsed": true
   },
   "outputs": [],
   "source": [
    "london_3 = london_2.drop(['quarter'], axis = 1)"
   ]
  },
  {
   "cell_type": "code",
   "execution_count": 28,
   "metadata": {
    "collapsed": true
   },
   "outputs": [],
   "source": [
    "london_4 = london_3[london_3[\"year\"] < 2017]"
   ]
  },
  {
   "cell_type": "code",
   "execution_count": 29,
   "metadata": {},
   "outputs": [
    {
     "data": {
      "text/plain": [
       "year          33909\n",
       "market        33909\n",
       "dur_stay      33909\n",
       "mode          33909\n",
       "purpose       33909\n",
       "visits_std    33909\n",
       "spend_std     33909\n",
       "nights_std    33909\n",
       "PI_std        33909\n",
       "econ_std      33909\n",
       "busi_std      33909\n",
       "gove_std      33909\n",
       "educ_std      33909\n",
       "heal_std      33909\n",
       "safe_std      33909\n",
       "pers_std      33909\n",
       "soci_std      33909\n",
       "envi_std      33909\n",
       "dtype: int64"
      ]
     },
     "execution_count": 29,
     "metadata": {},
     "output_type": "execute_result"
    }
   ],
   "source": [
    "london_4.count()"
   ]
  },
  {
   "cell_type": "code",
   "execution_count": 31,
   "metadata": {},
   "outputs": [
    {
     "data": {
      "text/html": [
       "<div>\n",
       "<style scoped>\n",
       "    .dataframe tbody tr th:only-of-type {\n",
       "        vertical-align: middle;\n",
       "    }\n",
       "\n",
       "    .dataframe tbody tr th {\n",
       "        vertical-align: top;\n",
       "    }\n",
       "\n",
       "    .dataframe thead th {\n",
       "        text-align: right;\n",
       "    }\n",
       "</style>\n",
       "<table border=\"1\" class=\"dataframe\">\n",
       "  <thead>\n",
       "    <tr style=\"text-align: right;\">\n",
       "      <th></th>\n",
       "      <th>year</th>\n",
       "      <th>market</th>\n",
       "      <th>dur_stay</th>\n",
       "      <th>mode</th>\n",
       "      <th>purpose</th>\n",
       "      <th>visits_std</th>\n",
       "      <th>spend_std</th>\n",
       "      <th>nights_std</th>\n",
       "      <th>PI_std</th>\n",
       "      <th>econ_std</th>\n",
       "      <th>busi_std</th>\n",
       "      <th>gove_std</th>\n",
       "      <th>educ_std</th>\n",
       "      <th>heal_std</th>\n",
       "      <th>safe_std</th>\n",
       "      <th>pers_std</th>\n",
       "      <th>soci_std</th>\n",
       "      <th>envi_std</th>\n",
       "    </tr>\n",
       "  </thead>\n",
       "  <tbody>\n",
       "    <tr>\n",
       "      <th>33904</th>\n",
       "      <td>2016</td>\n",
       "      <td>Other Africa</td>\n",
       "      <td>&lt;15 nights</td>\n",
       "      <td>Air</td>\n",
       "      <td>VFR</td>\n",
       "      <td>-0.418963</td>\n",
       "      <td>-0.108175</td>\n",
       "      <td>-0.371385</td>\n",
       "      <td>-1.90829</td>\n",
       "      <td>-2.170408</td>\n",
       "      <td>-1.746874</td>\n",
       "      <td>-1.609777</td>\n",
       "      <td>-2.735826</td>\n",
       "      <td>-2.295509</td>\n",
       "      <td>-1.434222</td>\n",
       "      <td>-1.160696</td>\n",
       "      <td>-1.184234</td>\n",
       "      <td>-0.921138</td>\n",
       "    </tr>\n",
       "    <tr>\n",
       "      <th>33905</th>\n",
       "      <td>2016</td>\n",
       "      <td>Other Africa</td>\n",
       "      <td>&lt;15 nights</td>\n",
       "      <td>Air</td>\n",
       "      <td>Miscellaneous</td>\n",
       "      <td>-0.446752</td>\n",
       "      <td>-0.454169</td>\n",
       "      <td>-0.452183</td>\n",
       "      <td>-1.90829</td>\n",
       "      <td>-2.170408</td>\n",
       "      <td>-1.746874</td>\n",
       "      <td>-1.609777</td>\n",
       "      <td>-2.735826</td>\n",
       "      <td>-2.295509</td>\n",
       "      <td>-1.434222</td>\n",
       "      <td>-1.160696</td>\n",
       "      <td>-1.184234</td>\n",
       "      <td>-0.921138</td>\n",
       "    </tr>\n",
       "    <tr>\n",
       "      <th>33906</th>\n",
       "      <td>2016</td>\n",
       "      <td>Other Africa</td>\n",
       "      <td>15+  nights</td>\n",
       "      <td>Air</td>\n",
       "      <td>Business</td>\n",
       "      <td>-0.432957</td>\n",
       "      <td>-0.349874</td>\n",
       "      <td>-0.240599</td>\n",
       "      <td>-1.90829</td>\n",
       "      <td>-2.170408</td>\n",
       "      <td>-1.746874</td>\n",
       "      <td>-1.609777</td>\n",
       "      <td>-2.735826</td>\n",
       "      <td>-2.295509</td>\n",
       "      <td>-1.434222</td>\n",
       "      <td>-1.160696</td>\n",
       "      <td>-1.184234</td>\n",
       "      <td>-0.921138</td>\n",
       "    </tr>\n",
       "    <tr>\n",
       "      <th>33907</th>\n",
       "      <td>2016</td>\n",
       "      <td>Other Africa</td>\n",
       "      <td>15+  nights</td>\n",
       "      <td>Air</td>\n",
       "      <td>VFR</td>\n",
       "      <td>-0.327472</td>\n",
       "      <td>-0.306922</td>\n",
       "      <td>0.111848</td>\n",
       "      <td>-1.90829</td>\n",
       "      <td>-2.170408</td>\n",
       "      <td>-1.746874</td>\n",
       "      <td>-1.609777</td>\n",
       "      <td>-2.735826</td>\n",
       "      <td>-2.295509</td>\n",
       "      <td>-1.434222</td>\n",
       "      <td>-1.160696</td>\n",
       "      <td>-1.184234</td>\n",
       "      <td>-0.921138</td>\n",
       "    </tr>\n",
       "    <tr>\n",
       "      <th>33908</th>\n",
       "      <td>2016</td>\n",
       "      <td>Other Africa</td>\n",
       "      <td>15+  nights</td>\n",
       "      <td>Tunnel</td>\n",
       "      <td>Study</td>\n",
       "      <td>-0.440052</td>\n",
       "      <td>-0.412842</td>\n",
       "      <td>-0.259119</td>\n",
       "      <td>-1.90829</td>\n",
       "      <td>-2.170408</td>\n",
       "      <td>-1.746874</td>\n",
       "      <td>-1.609777</td>\n",
       "      <td>-2.735826</td>\n",
       "      <td>-2.295509</td>\n",
       "      <td>-1.434222</td>\n",
       "      <td>-1.160696</td>\n",
       "      <td>-1.184234</td>\n",
       "      <td>-0.921138</td>\n",
       "    </tr>\n",
       "  </tbody>\n",
       "</table>\n",
       "</div>"
      ],
      "text/plain": [
       "       year        market     dur_stay    mode        purpose  visits_std  \\\n",
       "33904  2016  Other Africa   <15 nights     Air            VFR   -0.418963   \n",
       "33905  2016  Other Africa   <15 nights     Air  Miscellaneous   -0.446752   \n",
       "33906  2016  Other Africa  15+  nights     Air       Business   -0.432957   \n",
       "33907  2016  Other Africa  15+  nights     Air            VFR   -0.327472   \n",
       "33908  2016  Other Africa  15+  nights  Tunnel          Study   -0.440052   \n",
       "\n",
       "       spend_std  nights_std   PI_std  econ_std  busi_std  gove_std  educ_std  \\\n",
       "33904  -0.108175   -0.371385 -1.90829 -2.170408 -1.746874 -1.609777 -2.735826   \n",
       "33905  -0.454169   -0.452183 -1.90829 -2.170408 -1.746874 -1.609777 -2.735826   \n",
       "33906  -0.349874   -0.240599 -1.90829 -2.170408 -1.746874 -1.609777 -2.735826   \n",
       "33907  -0.306922    0.111848 -1.90829 -2.170408 -1.746874 -1.609777 -2.735826   \n",
       "33908  -0.412842   -0.259119 -1.90829 -2.170408 -1.746874 -1.609777 -2.735826   \n",
       "\n",
       "       heal_std  safe_std  pers_std  soci_std  envi_std  \n",
       "33904 -2.295509 -1.434222 -1.160696 -1.184234 -0.921138  \n",
       "33905 -2.295509 -1.434222 -1.160696 -1.184234 -0.921138  \n",
       "33906 -2.295509 -1.434222 -1.160696 -1.184234 -0.921138  \n",
       "33907 -2.295509 -1.434222 -1.160696 -1.184234 -0.921138  \n",
       "33908 -2.295509 -1.434222 -1.160696 -1.184234 -0.921138  "
      ]
     },
     "execution_count": 31,
     "metadata": {},
     "output_type": "execute_result"
    }
   ],
   "source": [
    "london_4.tail()"
   ]
  },
  {
   "cell_type": "code",
   "execution_count": 32,
   "metadata": {
    "collapsed": true
   },
   "outputs": [],
   "source": [
    "Y = london_4['dur_stay']"
   ]
  },
  {
   "cell_type": "code",
   "execution_count": 33,
   "metadata": {
    "collapsed": true
   },
   "outputs": [],
   "source": [
    "X = london_4.drop(['dur_stay'], axis = 1)"
   ]
  },
  {
   "cell_type": "code",
   "execution_count": 34,
   "metadata": {
    "collapsed": true
   },
   "outputs": [],
   "source": [
    "from sklearn.preprocessing import LabelEncoder, OneHotEncoder\n",
    "labelencoder_X = LabelEncoder()"
   ]
  },
  {
   "cell_type": "code",
   "execution_count": 35,
   "metadata": {
    "collapsed": true
   },
   "outputs": [],
   "source": [
    "X.iloc[:, 1] = labelencoder_X.fit_transform(X.iloc[:, 1])\n",
    "X.iloc[:, 2] = labelencoder_X.fit_transform(X.iloc[:, 2])\n",
    "X.iloc[:, 3] = labelencoder_X.fit_transform(X.iloc[:, 3])"
   ]
  },
  {
   "cell_type": "code",
   "execution_count": 36,
   "metadata": {},
   "outputs": [
    {
     "data": {
      "text/html": [
       "<div>\n",
       "<style scoped>\n",
       "    .dataframe tbody tr th:only-of-type {\n",
       "        vertical-align: middle;\n",
       "    }\n",
       "\n",
       "    .dataframe tbody tr th {\n",
       "        vertical-align: top;\n",
       "    }\n",
       "\n",
       "    .dataframe thead th {\n",
       "        text-align: right;\n",
       "    }\n",
       "</style>\n",
       "<table border=\"1\" class=\"dataframe\">\n",
       "  <thead>\n",
       "    <tr style=\"text-align: right;\">\n",
       "      <th></th>\n",
       "      <th>year</th>\n",
       "      <th>market</th>\n",
       "      <th>mode</th>\n",
       "      <th>purpose</th>\n",
       "      <th>visits_std</th>\n",
       "      <th>spend_std</th>\n",
       "      <th>nights_std</th>\n",
       "      <th>PI_std</th>\n",
       "      <th>econ_std</th>\n",
       "      <th>busi_std</th>\n",
       "      <th>gove_std</th>\n",
       "      <th>educ_std</th>\n",
       "      <th>heal_std</th>\n",
       "      <th>safe_std</th>\n",
       "      <th>pers_std</th>\n",
       "      <th>soci_std</th>\n",
       "      <th>envi_std</th>\n",
       "    </tr>\n",
       "  </thead>\n",
       "  <tbody>\n",
       "    <tr>\n",
       "      <th>0</th>\n",
       "      <td>2007</td>\n",
       "      <td>4</td>\n",
       "      <td>0</td>\n",
       "      <td>1</td>\n",
       "      <td>-0.421079</td>\n",
       "      <td>-0.451530</td>\n",
       "      <td>-0.510844</td>\n",
       "      <td>0.722575</td>\n",
       "      <td>0.972559</td>\n",
       "      <td>0.619921</td>\n",
       "      <td>0.782733</td>\n",
       "      <td>1.011442</td>\n",
       "      <td>0.728396</td>\n",
       "      <td>0.439758</td>\n",
       "      <td>0.991503</td>\n",
       "      <td>0.593672</td>\n",
       "      <td>-1.013508</td>\n",
       "    </tr>\n",
       "    <tr>\n",
       "      <th>1</th>\n",
       "      <td>2007</td>\n",
       "      <td>4</td>\n",
       "      <td>0</td>\n",
       "      <td>0</td>\n",
       "      <td>-0.025213</td>\n",
       "      <td>-0.227183</td>\n",
       "      <td>-0.400948</td>\n",
       "      <td>0.722575</td>\n",
       "      <td>0.972559</td>\n",
       "      <td>0.619921</td>\n",
       "      <td>0.782733</td>\n",
       "      <td>1.011442</td>\n",
       "      <td>0.728396</td>\n",
       "      <td>0.439758</td>\n",
       "      <td>0.991503</td>\n",
       "      <td>0.593672</td>\n",
       "      <td>-1.013508</td>\n",
       "    </tr>\n",
       "    <tr>\n",
       "      <th>2</th>\n",
       "      <td>2007</td>\n",
       "      <td>4</td>\n",
       "      <td>0</td>\n",
       "      <td>4</td>\n",
       "      <td>-0.372808</td>\n",
       "      <td>-0.457511</td>\n",
       "      <td>-0.492162</td>\n",
       "      <td>0.722575</td>\n",
       "      <td>0.972559</td>\n",
       "      <td>0.619921</td>\n",
       "      <td>0.782733</td>\n",
       "      <td>1.011442</td>\n",
       "      <td>0.728396</td>\n",
       "      <td>0.439758</td>\n",
       "      <td>0.991503</td>\n",
       "      <td>0.593672</td>\n",
       "      <td>-1.013508</td>\n",
       "    </tr>\n",
       "    <tr>\n",
       "      <th>3</th>\n",
       "      <td>2007</td>\n",
       "      <td>4</td>\n",
       "      <td>0</td>\n",
       "      <td>2</td>\n",
       "      <td>-0.393508</td>\n",
       "      <td>-0.433114</td>\n",
       "      <td>-0.492461</td>\n",
       "      <td>0.722575</td>\n",
       "      <td>0.972559</td>\n",
       "      <td>0.619921</td>\n",
       "      <td>0.782733</td>\n",
       "      <td>1.011442</td>\n",
       "      <td>0.728396</td>\n",
       "      <td>0.439758</td>\n",
       "      <td>0.991503</td>\n",
       "      <td>0.593672</td>\n",
       "      <td>-1.013508</td>\n",
       "    </tr>\n",
       "    <tr>\n",
       "      <th>4</th>\n",
       "      <td>2007</td>\n",
       "      <td>4</td>\n",
       "      <td>1</td>\n",
       "      <td>1</td>\n",
       "      <td>0.160265</td>\n",
       "      <td>-0.397954</td>\n",
       "      <td>-0.372581</td>\n",
       "      <td>0.722575</td>\n",
       "      <td>0.972559</td>\n",
       "      <td>0.619921</td>\n",
       "      <td>0.782733</td>\n",
       "      <td>1.011442</td>\n",
       "      <td>0.728396</td>\n",
       "      <td>0.439758</td>\n",
       "      <td>0.991503</td>\n",
       "      <td>0.593672</td>\n",
       "      <td>-1.013508</td>\n",
       "    </tr>\n",
       "  </tbody>\n",
       "</table>\n",
       "</div>"
      ],
      "text/plain": [
       "   year  market  mode  purpose  visits_std  spend_std  nights_std    PI_std  \\\n",
       "0  2007       4     0        1   -0.421079  -0.451530   -0.510844  0.722575   \n",
       "1  2007       4     0        0   -0.025213  -0.227183   -0.400948  0.722575   \n",
       "2  2007       4     0        4   -0.372808  -0.457511   -0.492162  0.722575   \n",
       "3  2007       4     0        2   -0.393508  -0.433114   -0.492461  0.722575   \n",
       "4  2007       4     1        1    0.160265  -0.397954   -0.372581  0.722575   \n",
       "\n",
       "   econ_std  busi_std  gove_std  educ_std  heal_std  safe_std  pers_std  \\\n",
       "0  0.972559  0.619921  0.782733  1.011442  0.728396  0.439758  0.991503   \n",
       "1  0.972559  0.619921  0.782733  1.011442  0.728396  0.439758  0.991503   \n",
       "2  0.972559  0.619921  0.782733  1.011442  0.728396  0.439758  0.991503   \n",
       "3  0.972559  0.619921  0.782733  1.011442  0.728396  0.439758  0.991503   \n",
       "4  0.972559  0.619921  0.782733  1.011442  0.728396  0.439758  0.991503   \n",
       "\n",
       "   soci_std  envi_std  \n",
       "0  0.593672 -1.013508  \n",
       "1  0.593672 -1.013508  \n",
       "2  0.593672 -1.013508  \n",
       "3  0.593672 -1.013508  \n",
       "4  0.593672 -1.013508  "
      ]
     },
     "execution_count": 36,
     "metadata": {},
     "output_type": "execute_result"
    }
   ],
   "source": [
    "X.head()"
   ]
  },
  {
   "cell_type": "code",
   "execution_count": 37,
   "metadata": {},
   "outputs": [
    {
     "data": {
      "text/plain": [
       "Text(0,0.5,'Number of occurrences')"
      ]
     },
     "execution_count": 37,
     "metadata": {},
     "output_type": "execute_result"
    },
    {
     "data": {
      "image/png": "[encoded data removed]",
      "text/plain": [
       "<Figure size 432x288 with 1 Axes>"
      ]
     },
     "metadata": {},
     "output_type": "display_data"
    }
   ],
   "source": [
    "sns.countplot(Y);\n",
    "plt.xlabel('target');\n",
    "plt.ylabel('Number of occurrences')"
   ]
  },
  {
   "cell_type": "code",
   "execution_count": 38,
   "metadata": {},
   "outputs": [
    {
     "data": {
      "text/plain": [
       "year          0\n",
       "market        0\n",
       "mode          0\n",
       "purpose       0\n",
       "visits_std    0\n",
       "spend_std     0\n",
       "nights_std    0\n",
       "PI_std        0\n",
       "econ_std      0\n",
       "busi_std      0\n",
       "gove_std      0\n",
       "educ_std      0\n",
       "heal_std      0\n",
       "safe_std      0\n",
       "pers_std      0\n",
       "soci_std      0\n",
       "envi_std      0\n",
       "dtype: int64"
      ]
     },
     "execution_count": 38,
     "metadata": {},
     "output_type": "execute_result"
    }
   ],
   "source": [
    "pd.DataFrame(X).isnull().sum()"
   ]
  },
  {
   "cell_type": "code",
   "execution_count": 39,
   "metadata": {},
   "outputs": [
    {
     "data": {
      "text/plain": [
       "year          True\n",
       "market        True\n",
       "mode          True\n",
       "purpose       True\n",
       "visits_std    True\n",
       "spend_std     True\n",
       "nights_std    True\n",
       "PI_std        True\n",
       "econ_std      True\n",
       "busi_std      True\n",
       "gove_std      True\n",
       "educ_std      True\n",
       "heal_std      True\n",
       "safe_std      True\n",
       "pers_std      True\n",
       "soci_std      True\n",
       "envi_std      True\n",
       "dtype: bool"
      ]
     },
     "execution_count": 39,
     "metadata": {},
     "output_type": "execute_result"
    }
   ],
   "source": [
    "np.isfinite(X.all())"
   ]
  },
  {
   "cell_type": "markdown",
   "metadata": {},
   "source": [
    "There are no null values in our training dataset. Now we can start to encoding categorical variables."
   ]
  },
  {
   "cell_type": "code",
   "execution_count": 40,
   "metadata": {
    "collapsed": true
   },
   "outputs": [],
   "source": [
    "onehotencoder = OneHotEncoder(categorical_features = [1,2,3])\n",
    "X = onehotencoder.fit_transform(X).toarray()"
   ]
  },
  {
   "cell_type": "code",
   "execution_count": 41,
   "metadata": {
    "collapsed": true
   },
   "outputs": [],
   "source": [
    "# Encoding the Dependent Variable\n",
    "labelencoder_Y = LabelEncoder()\n",
    "Y = labelencoder_Y.fit_transform(Y)"
   ]
  },
  {
   "cell_type": "code",
   "execution_count": 42,
   "metadata": {},
   "outputs": [
    {
     "data": {
      "text/plain": [
       "array([1, 1, 1, ..., 0, 0, 0], dtype=int64)"
      ]
     },
     "execution_count": 42,
     "metadata": {},
     "output_type": "execute_result"
    }
   ],
   "source": [
    "Y"
   ]
  },
  {
   "cell_type": "code",
   "execution_count": 43,
   "metadata": {},
   "outputs": [
    {
     "name": "stderr",
     "output_type": "stream",
     "text": [
      "D:\\Anaconda\\lib\\site-packages\\sklearn\\cross_validation.py:41: DeprecationWarning: This module was deprecated in version 0.18 in favor of the model_selection module into which all the refactored classes and functions are moved. Also note that the interface of the new CV iterators are different from that of this module. This module will be removed in 0.20.\n",
      "  \"This module will be removed in 0.20.\", DeprecationWarning)\n"
     ]
    }
   ],
   "source": [
    "from sklearn.cross_validation import train_test_split\n",
    "X_train, X_test, Y_train, Y_test = train_test_split(X, Y, test_size = 0.25, random_state = 0)"
   ]
  },
  {
   "cell_type": "markdown",
   "metadata": {},
   "source": [
    "## Applying PCA"
   ]
  },
  {
   "cell_type": "code",
   "execution_count": 44,
   "metadata": {
    "collapsed": true
   },
   "outputs": [],
   "source": [
    "from sklearn.decomposition import PCA\n",
    "pca = PCA(n_components = 12)\n",
    "X_train = pca.fit_transform(X_train)\n",
    "X_test = pca.transform(X_test)\n",
    "explained_variance = pca.explained_variance_ratio_"
   ]
  },
  {
   "cell_type": "code",
   "execution_count": 45,
   "metadata": {},
   "outputs": [
    {
     "data": {
      "text/plain": [
       "array([0.50152429, 0.13241758, 0.04630211, 0.03155565, 0.02799404,\n",
       "       0.02334361, 0.02051303, 0.01782966, 0.01663395, 0.01443927,\n",
       "       0.01245222, 0.01044125])"
      ]
     },
     "execution_count": 45,
     "metadata": {},
     "output_type": "execute_result"
    }
   ],
   "source": [
    "explained_variance"
   ]
  },
  {
   "cell_type": "markdown",
   "metadata": {},
   "source": [
    "## Building Models"
   ]
  },
  {
   "cell_type": "markdown",
   "metadata": {},
   "source": [
    "We built several kinds of classification models, including Logistic Regression, Decision Tree Classification, Random Forest Classification, K Nearest Neighbors, Naive Bayes, Kernal SVM. For each model, we plotted two confusion matrixes and used K-fold cross validation to verify its accurancy and variance."
   ]
  },
  {
   "cell_type": "markdown",
   "metadata": {},
   "source": [
    "### Logistic Regression"
   ]
  },
  {
   "cell_type": "code",
   "execution_count": 46,
   "metadata": {
    "scrolled": true
   },
   "outputs": [
    {
     "data": {
      "text/plain": [
       "LogisticRegression(C=1.0, class_weight=None, dual=False, fit_intercept=True,\n",
       "          intercept_scaling=1, max_iter=100, multi_class='ovr', n_jobs=1,\n",
       "          penalty='l2', random_state=0, solver='liblinear', tol=0.0001,\n",
       "          verbose=0, warm_start=False)"
      ]
     },
     "execution_count": 46,
     "metadata": {},
     "output_type": "execute_result"
    }
   ],
   "source": [
    "# Fitting Logistic Regression to the Training set\n",
    "from sklearn.linear_model import LogisticRegression\n",
    "classifier = LogisticRegression(random_state = 0)\n",
    "classifier.fit(X_train, Y_train)"
   ]
  },
  {
   "cell_type": "code",
   "execution_count": 47,
   "metadata": {
    "collapsed": true
   },
   "outputs": [],
   "source": [
    "Y_pred = classifier.predict(X_test)"
   ]
  },
  {
   "cell_type": "code",
   "execution_count": 48,
   "metadata": {},
   "outputs": [
    {
     "name": "stdout",
     "output_type": "stream",
     "text": [
      "Logistic Regression Confusion matrix, without normalization\n",
      "[[ 946  585]\n",
      " [  98 6849]]\n",
      "Logistic Regression Normalized confusion matrix\n",
      "[[0.62 0.38]\n",
      " [0.01 0.99]]\n"
     ]
    },
    {
     "data": {
      "image/png": "[encoded data removed]",
      "text/plain": [
       "<Figure size 432x288 with 2 Axes>"
      ]
     },
     "metadata": {},
     "output_type": "display_data"
    },
    {
     "data": {
      "image/png": "[encoded data removed]",
      "text/plain": [
       "<Figure size 432x288 with 2 Axes>"
      ]
     },
     "metadata": {},
     "output_type": "display_data"
    }
   ],
   "source": [
    "import itertools\n",
    "from sklearn.metrics import confusion_matrix\n",
    "\n",
    "class_names = ['<15 nights','15+nights']\n",
    "\n",
    "def plot_confusion_matrix(cm, classes,\n",
    "                          normalize=False,\n",
    "                          title='Confusion matrix',\n",
    "                          cmap=plt.cm.Blues):\n",
    "    if normalize:\n",
    "        cm = cm.astype('float') / cm.sum(axis=1)[:, np.newaxis]\n",
    "        print(\"Logistic Regression Normalized confusion matrix\")\n",
    "    else:\n",
    "        print('Logistic Regression Confusion matrix, without normalization')\n",
    "    print(cm)\n",
    "\n",
    "    plt.imshow(cm, interpolation='nearest', cmap=cmap)\n",
    "    plt.title(title)\n",
    "    plt.colorbar()\n",
    "    tick_marks = np.arange(len(classes))\n",
    "    plt.xticks(tick_marks, classes, rotation=45)\n",
    "    plt.yticks(tick_marks, classes)\n",
    "\n",
    "    fmt = '.2f'if normalize else 'd'\n",
    "    thresh = cm.max() / 2.\n",
    "    for i, j in itertools.product(range(cm.shape[0]), range(cm.shape[1])):\n",
    "        plt.text(j, i, format(cm[i, j], fmt),\n",
    "                 horizontalalignment=\"center\",\n",
    "                 color=\"white\" if cm[i, j] > thresh else \"black\")\n",
    "\n",
    "    plt.ylabel('True label')\n",
    "    plt.xlabel('Predicted label')\n",
    "    plt.tight_layout()\n",
    "\n",
    "\n",
    "# Compute confusion matrix\n",
    "cnf_matrix = confusion_matrix(Y_test, Y_pred)\n",
    "np.set_printoptions(precision=2)\n",
    "\n",
    "# Plot non-normalized confusion matrix\n",
    "plt.figure()\n",
    "plot_confusion_matrix(cnf_matrix, classes=class_names,\n",
    "                      title='Logistic Regression Confusion matrix, without normalization')\n",
    "\n",
    "# Plot normalized confusion matrix\n",
    "plt.figure()\n",
    "plot_confusion_matrix(cnf_matrix, classes=class_names, normalize=True,\n",
    "                      title='Logistic Regression Normalized confusion matrix')\n",
    "\n",
    "plt.show()"
   ]
  },
  {
   "cell_type": "code",
   "execution_count": 49,
   "metadata": {},
   "outputs": [
    {
     "name": "stdout",
     "output_type": "stream",
     "text": [
      "             precision    recall  f1-score   support\n",
      "\n",
      " <15 nights       0.91      0.62      0.73      1531\n",
      "  15+nights       0.92      0.99      0.95      6947\n",
      "\n",
      "avg / total       0.92      0.92      0.91      8478\n",
      "\n"
     ]
    }
   ],
   "source": [
    "from sklearn.metrics import classification_report\n",
    "print(classification_report(Y_test, Y_pred, target_names=class_names)) "
   ]
  },
  {
   "cell_type": "code",
   "execution_count": 50,
   "metadata": {},
   "outputs": [
    {
     "data": {
      "text/plain": [
       "0.9213955477857217"
      ]
     },
     "execution_count": 50,
     "metadata": {},
     "output_type": "execute_result"
    }
   ],
   "source": [
    "from sklearn.model_selection import cross_val_score\n",
    "accuracies = cross_val_score(estimator = classifier, X = X_train, y = Y_train, cv = 10)\n",
    "accuracies.mean()"
   ]
  },
  {
   "cell_type": "code",
   "execution_count": 51,
   "metadata": {},
   "outputs": [
    {
     "data": {
      "text/plain": [
       "0.005058801508573623"
      ]
     },
     "execution_count": 51,
     "metadata": {},
     "output_type": "execute_result"
    }
   ],
   "source": [
    "accuracies.std()"
   ]
  },
  {
   "cell_type": "markdown",
   "metadata": {},
   "source": [
    "This model has low bias and low variance."
   ]
  },
  {
   "cell_type": "markdown",
   "metadata": {},
   "source": [
    "### Decision Tree Classification"
   ]
  },
  {
   "cell_type": "code",
   "execution_count": 52,
   "metadata": {},
   "outputs": [
    {
     "data": {
      "text/plain": [
       "DecisionTreeClassifier(class_weight=None, criterion='entropy', max_depth=None,\n",
       "            max_features=None, max_leaf_nodes=None,\n",
       "            min_impurity_decrease=0.0, min_impurity_split=None,\n",
       "            min_samples_leaf=1, min_samples_split=2,\n",
       "            min_weight_fraction_leaf=0.0, presort=False, random_state=0,\n",
       "            splitter='best')"
      ]
     },
     "execution_count": 52,
     "metadata": {},
     "output_type": "execute_result"
    }
   ],
   "source": [
    "# Fitting classifier to the Training set\n",
    "from sklearn.tree import DecisionTreeClassifier\n",
    "classifier_dt = DecisionTreeClassifier(criterion = 'entropy', random_state = 0)\n",
    "classifier_dt.fit(X_train, Y_train)"
   ]
  },
  {
   "cell_type": "code",
   "execution_count": 53,
   "metadata": {
    "collapsed": true
   },
   "outputs": [],
   "source": [
    "Y_pred_dt = classifier_dt.predict(X_test)"
   ]
  },
  {
   "cell_type": "code",
   "execution_count": 54,
   "metadata": {},
   "outputs": [
    {
     "name": "stdout",
     "output_type": "stream",
     "text": [
      "Decision Tree Confusion matrix, without normalization\n",
      "[[ 984  547]\n",
      " [ 544 6403]]\n",
      "Decision Tree Normalized confusion matrix\n",
      "[[0.64 0.36]\n",
      " [0.08 0.92]]\n"
     ]
    },
    {
     "data": {
      "image/png": "[encoded data removed]",
      "text/plain": [
       "<Figure size 432x288 with 2 Axes>"
      ]
     },
     "metadata": {},
     "output_type": "display_data"
    },
    {
     "data": {
      "image/png": "[encoded data removed]",
      "text/plain": [
       "<Figure size 432x288 with 2 Axes>"
      ]
     },
     "metadata": {},
     "output_type": "display_data"
    }
   ],
   "source": [
    "def plot_confusion_matrix(cm, classes,\n",
    "                          normalize=False,\n",
    "                          title='Confusion matrix',\n",
    "                          cmap=plt.cm.Blues):\n",
    "    if normalize:\n",
    "        cm = cm.astype('float') / cm.sum(axis=1)[:, np.newaxis]\n",
    "        print(\"Decision Tree Normalized confusion matrix\")\n",
    "    else:\n",
    "        print('Decision Tree Confusion matrix, without normalization')\n",
    "    print(cm)\n",
    "\n",
    "    plt.imshow(cm, interpolation='nearest', cmap=cmap)\n",
    "    plt.title(title)\n",
    "    plt.colorbar()\n",
    "    tick_marks = np.arange(len(classes))\n",
    "    plt.xticks(tick_marks, classes, rotation=45)\n",
    "    plt.yticks(tick_marks, classes)\n",
    "\n",
    "    fmt = '.2f'if normalize else 'd'\n",
    "    thresh = cm.max() / 2.\n",
    "    for i, j in itertools.product(range(cm.shape[0]), range(cm.shape[1])):\n",
    "        plt.text(j, i, format(cm[i, j], fmt),\n",
    "                 horizontalalignment=\"center\",\n",
    "                 color=\"white\" if cm[i, j] > thresh else \"black\")\n",
    "\n",
    "    plt.ylabel('True label')\n",
    "    plt.xlabel('Predicted label')\n",
    "    plt.tight_layout()\n",
    "\n",
    "\n",
    "# Compute confusion matrix\n",
    "cnf_matrix = confusion_matrix(Y_test, Y_pred_dt)\n",
    "np.set_printoptions(precision=2)\n",
    "\n",
    "# Plot non-normalized confusion matrix\n",
    "plt.figure()\n",
    "plot_confusion_matrix(cnf_matrix, classes=class_names,\n",
    "                      title='Decision Tree Confusion matrix, without normalization')\n",
    "\n",
    "# Plot normalized confusion matrix\n",
    "plt.figure()\n",
    "plot_confusion_matrix(cnf_matrix, classes=class_names, normalize=True,\n",
    "                      title='Decision Tree Normalized confusion matrix')\n",
    "\n",
    "plt.show()"
   ]
  },
  {
   "cell_type": "code",
   "execution_count": 55,
   "metadata": {},
   "outputs": [
    {
     "name": "stdout",
     "output_type": "stream",
     "text": [
      "             precision    recall  f1-score   support\n",
      "\n",
      " <15 nights       0.64      0.64      0.64      1531\n",
      "  15+nights       0.92      0.92      0.92      6947\n",
      "\n",
      "avg / total       0.87      0.87      0.87      8478\n",
      "\n"
     ]
    }
   ],
   "source": [
    "from sklearn.metrics import classification_report\n",
    "print(classification_report(Y_test, Y_pred_dt, target_names=class_names)) "
   ]
  },
  {
   "cell_type": "code",
   "execution_count": 56,
   "metadata": {},
   "outputs": [
    {
     "data": {
      "text/plain": [
       "0.8648505103381184"
      ]
     },
     "execution_count": 56,
     "metadata": {},
     "output_type": "execute_result"
    }
   ],
   "source": [
    "from sklearn.model_selection import cross_val_score\n",
    "accuracies = cross_val_score(estimator = classifier_dt, X = X_train, y = Y_train, cv = 10)\n",
    "accuracies.mean()"
   ]
  },
  {
   "cell_type": "code",
   "execution_count": 57,
   "metadata": {},
   "outputs": [
    {
     "data": {
      "text/plain": [
       "0.006652096826807104"
      ]
     },
     "execution_count": 57,
     "metadata": {},
     "output_type": "execute_result"
    }
   ],
   "source": [
    "accuracies.std()"
   ]
  },
  {
   "cell_type": "markdown",
   "metadata": {},
   "source": [
    "### Random Forest Classification"
   ]
  },
  {
   "cell_type": "code",
   "execution_count": 58,
   "metadata": {},
   "outputs": [
    {
     "data": {
      "text/plain": [
       "RandomForestClassifier(bootstrap=True, class_weight=None, criterion='entropy',\n",
       "            max_depth=None, max_features='auto', max_leaf_nodes=None,\n",
       "            min_impurity_decrease=0.0, min_impurity_split=None,\n",
       "            min_samples_leaf=1, min_samples_split=2,\n",
       "            min_weight_fraction_leaf=0.0, n_estimators=500, n_jobs=1,\n",
       "            oob_score=False, random_state=0, verbose=0, warm_start=False)"
      ]
     },
     "execution_count": 58,
     "metadata": {},
     "output_type": "execute_result"
    }
   ],
   "source": [
    "# Fitting classifier to the Training set\n",
    "from sklearn.ensemble import RandomForestClassifier\n",
    "classifier_rf = RandomForestClassifier(n_estimators = 500, criterion = 'entropy', random_state = 0)\n",
    "classifier_rf.fit(X_train, Y_train)"
   ]
  },
  {
   "cell_type": "code",
   "execution_count": 59,
   "metadata": {
    "collapsed": true
   },
   "outputs": [],
   "source": [
    "Y_pred_rf = classifier_rf.predict(X_test)"
   ]
  },
  {
   "cell_type": "code",
   "execution_count": 60,
   "metadata": {
    "scrolled": false
   },
   "outputs": [
    {
     "name": "stdout",
     "output_type": "stream",
     "text": [
      "Random Forest Confusion matrix, without normalization\n",
      "[[ 881  650]\n",
      " [ 118 6829]]\n",
      "Random Forest Normalized confusion matrix\n",
      "[[0.58 0.42]\n",
      " [0.02 0.98]]\n"
     ]
    },
    {
     "data": {
      "image/png": "[encoded data removed]",
      "text/plain": [
       "<Figure size 432x288 with 2 Axes>"
      ]
     },
     "metadata": {},
     "output_type": "display_data"
    },
    {
     "data": {
      "image/png": "[encoded data removed]",
      "text/plain": [
       "<Figure size 432x288 with 2 Axes>"
      ]
     },
     "metadata": {},
     "output_type": "display_data"
    }
   ],
   "source": [
    "def plot_confusion_matrix(cm, classes,\n",
    "                          normalize=False,\n",
    "                          title='Confusion matrix',\n",
    "                          cmap=plt.cm.Blues):\n",
    "    if normalize:\n",
    "        cm = cm.astype('float') / cm.sum(axis=1)[:, np.newaxis]\n",
    "        print(\"Random Forest Normalized confusion matrix\")\n",
    "    else:\n",
    "        print('Random Forest Confusion matrix, without normalization')\n",
    "    print(cm)\n",
    "\n",
    "    plt.imshow(cm, interpolation='nearest', cmap=cmap)\n",
    "    plt.title(title)\n",
    "    plt.colorbar()\n",
    "    tick_marks = np.arange(len(classes))\n",
    "    plt.xticks(tick_marks, classes, rotation=45)\n",
    "    plt.yticks(tick_marks, classes)\n",
    "\n",
    "    fmt = '.2f'if normalize else 'd'\n",
    "    thresh = cm.max() / 2.\n",
    "    for i, j in itertools.product(range(cm.shape[0]), range(cm.shape[1])):\n",
    "        plt.text(j, i, format(cm[i, j], fmt),\n",
    "                 horizontalalignment=\"center\",\n",
    "                 color=\"white\" if cm[i, j] > thresh else \"black\")\n",
    "\n",
    "    plt.ylabel('True label')\n",
    "    plt.xlabel('Predicted label')\n",
    "    plt.tight_layout()\n",
    "\n",
    "\n",
    "# Compute confusion matrix\n",
    "cnf_matrix = confusion_matrix(Y_test, Y_pred_rf)\n",
    "np.set_printoptions(precision=2)\n",
    "\n",
    "# Plot non-normalized confusion matrix\n",
    "plt.figure()\n",
    "plot_confusion_matrix(cnf_matrix, classes=class_names,\n",
    "                      title='Random Forest Confusion matrix, without normalization')\n",
    "\n",
    "# Plot normalized confusion matrix\n",
    "plt.figure()\n",
    "plot_confusion_matrix(cnf_matrix, classes=class_names, normalize=True,\n",
    "                      title='Random Forest Normalized confusion matrix')\n",
    "\n",
    "plt.show()"
   ]
  },
  {
   "cell_type": "code",
   "execution_count": 61,
   "metadata": {},
   "outputs": [
    {
     "name": "stdout",
     "output_type": "stream",
     "text": [
      "             precision    recall  f1-score   support\n",
      "\n",
      " <15 nights       0.88      0.58      0.70      1531\n",
      "  15+nights       0.91      0.98      0.95      6947\n",
      "\n",
      "avg / total       0.91      0.91      0.90      8478\n",
      "\n"
     ]
    }
   ],
   "source": [
    "from sklearn.metrics import classification_report\n",
    "print(classification_report(Y_test, Y_pred_rf, target_names=class_names)) "
   ]
  },
  {
   "cell_type": "code",
   "execution_count": 62,
   "metadata": {},
   "outputs": [
    {
     "data": {
      "text/plain": [
       "0.906060087572583"
      ]
     },
     "execution_count": 62,
     "metadata": {},
     "output_type": "execute_result"
    }
   ],
   "source": [
    "from sklearn.model_selection import cross_val_score\n",
    "accuracies = cross_val_score(estimator = classifier_rf, X = X_train, y = Y_train, cv = 10)\n",
    "accuracies.mean()"
   ]
  },
  {
   "cell_type": "code",
   "execution_count": 63,
   "metadata": {},
   "outputs": [
    {
     "data": {
      "text/plain": [
       "0.0058341224644709476"
      ]
     },
     "execution_count": 63,
     "metadata": {},
     "output_type": "execute_result"
    }
   ],
   "source": [
    "accuracies.std()"
   ]
  },
  {
   "cell_type": "markdown",
   "metadata": {},
   "source": [
    "### K-Nearest Neighbors (KNN)"
   ]
  },
  {
   "cell_type": "code",
   "execution_count": 64,
   "metadata": {},
   "outputs": [
    {
     "data": {
      "text/plain": [
       "KNeighborsClassifier(algorithm='auto', leaf_size=30, metric='minkowski',\n",
       "           metric_params=None, n_jobs=1, n_neighbors=4, p=2,\n",
       "           weights='uniform')"
      ]
     },
     "execution_count": 64,
     "metadata": {},
     "output_type": "execute_result"
    }
   ],
   "source": [
    "# Fitting classifier to the Training set\n",
    "from sklearn.neighbors import KNeighborsClassifier\n",
    "classifier_knn = KNeighborsClassifier(n_neighbors = 4, metric = 'minkowski', p = 2)\n",
    "classifier_knn.fit(X_train, Y_train)"
   ]
  },
  {
   "cell_type": "code",
   "execution_count": 65,
   "metadata": {
    "collapsed": true
   },
   "outputs": [],
   "source": [
    "Y_pred_knn = classifier_knn.predict(X_test)"
   ]
  },
  {
   "cell_type": "code",
   "execution_count": 66,
   "metadata": {},
   "outputs": [
    {
     "name": "stdout",
     "output_type": "stream",
     "text": [
      "KNN Confusion matrix, without normalization\n",
      "[[ 810  721]\n",
      " [ 383 6564]]\n",
      "KNN Normalized confusion matrix\n",
      "[[0.53 0.47]\n",
      " [0.06 0.94]]\n"
     ]
    },
    {
     "data": {
      "image/png": "[encoded data removed]",
      "text/plain": [
       "<Figure size 432x288 with 2 Axes>"
      ]
     },
     "metadata": {},
     "output_type": "display_data"
    },
    {
     "data": {
      "image/png": "[encoded data removed]",
      "text/plain": [
       "<Figure size 432x288 with 2 Axes>"
      ]
     },
     "metadata": {},
     "output_type": "display_data"
    }
   ],
   "source": [
    "def plot_confusion_matrix(cm, classes,\n",
    "                          normalize=False,\n",
    "                          title='Confusion matrix',\n",
    "                          cmap=plt.cm.Blues):\n",
    "    if normalize:\n",
    "        cm = cm.astype('float') / cm.sum(axis=1)[:, np.newaxis]\n",
    "        print(\"KNN Normalized confusion matrix\")\n",
    "    else:\n",
    "        print('KNN Confusion matrix, without normalization')\n",
    "    print(cm)\n",
    "\n",
    "    plt.imshow(cm, interpolation='nearest', cmap=cmap)\n",
    "    plt.title(title)\n",
    "    plt.colorbar()\n",
    "    tick_marks = np.arange(len(classes))\n",
    "    plt.xticks(tick_marks, classes, rotation=45)\n",
    "    plt.yticks(tick_marks, classes)\n",
    "\n",
    "    fmt = '.2f'if normalize else 'd'\n",
    "    thresh = cm.max() / 2.\n",
    "    for i, j in itertools.product(range(cm.shape[0]), range(cm.shape[1])):\n",
    "        plt.text(j, i, format(cm[i, j], fmt),\n",
    "                 horizontalalignment=\"center\",\n",
    "                 color=\"white\" if cm[i, j] > thresh else \"black\")\n",
    "\n",
    "    plt.ylabel('True label')\n",
    "    plt.xlabel('Predicted label')\n",
    "    plt.tight_layout()\n",
    "\n",
    "\n",
    "# Compute confusion matrix\n",
    "cnf_matrix = confusion_matrix(Y_test, Y_pred_knn)\n",
    "np.set_printoptions(precision=2)\n",
    "\n",
    "# Plot non-normalized confusion matrix\n",
    "plt.figure()\n",
    "plot_confusion_matrix(cnf_matrix, classes=class_names,\n",
    "                      title='KNN Confusion matrix, without normalization')\n",
    "\n",
    "# Plot normalized confusion matrix\n",
    "plt.figure()\n",
    "plot_confusion_matrix(cnf_matrix, classes=class_names, normalize=True,\n",
    "                      title='KNN Normalized confusion matrix')\n",
    "\n",
    "plt.show()"
   ]
  },
  {
   "cell_type": "code",
   "execution_count": 67,
   "metadata": {},
   "outputs": [
    {
     "name": "stdout",
     "output_type": "stream",
     "text": [
      "             precision    recall  f1-score   support\n",
      "\n",
      " <15 nights       0.68      0.53      0.59      1531\n",
      "  15+nights       0.90      0.94      0.92      6947\n",
      "\n",
      "avg / total       0.86      0.87      0.86      8478\n",
      "\n"
     ]
    }
   ],
   "source": [
    "from sklearn.metrics import classification_report\n",
    "print(classification_report(Y_test, Y_pred_knn, target_names=class_names)) "
   ]
  },
  {
   "cell_type": "code",
   "execution_count": 68,
   "metadata": {},
   "outputs": [
    {
     "data": {
      "text/plain": [
       "0.8641030830318067"
      ]
     },
     "execution_count": 68,
     "metadata": {},
     "output_type": "execute_result"
    }
   ],
   "source": [
    "from sklearn.model_selection import cross_val_score\n",
    "accuracies = cross_val_score(estimator = classifier_knn, X = X_train, y = Y_train, cv = 10)\n",
    "accuracies.mean()"
   ]
  },
  {
   "cell_type": "code",
   "execution_count": 69,
   "metadata": {},
   "outputs": [
    {
     "data": {
      "text/plain": [
       "0.006527493737279315"
      ]
     },
     "execution_count": 69,
     "metadata": {},
     "output_type": "execute_result"
    }
   ],
   "source": [
    "accuracies.std()"
   ]
  },
  {
   "cell_type": "markdown",
   "metadata": {},
   "source": [
    "### Naive Bayes"
   ]
  },
  {
   "cell_type": "code",
   "execution_count": 70,
   "metadata": {},
   "outputs": [
    {
     "data": {
      "text/plain": [
       "GaussianNB(priors=None)"
      ]
     },
     "execution_count": 70,
     "metadata": {},
     "output_type": "execute_result"
    }
   ],
   "source": [
    "# Fitting classifier to the Training set\n",
    "from sklearn.naive_bayes import GaussianNB\n",
    "classifier_nb = GaussianNB()\n",
    "classifier_nb.fit(X_train, Y_train)"
   ]
  },
  {
   "cell_type": "code",
   "execution_count": 71,
   "metadata": {
    "collapsed": true
   },
   "outputs": [],
   "source": [
    "Y_pred_nb = classifier_nb.predict(X_test)"
   ]
  },
  {
   "cell_type": "code",
   "execution_count": 72,
   "metadata": {},
   "outputs": [
    {
     "name": "stdout",
     "output_type": "stream",
     "text": [
      "Naive Bayes Confusion matrix, without normalization\n",
      "[[ 356 1175]\n",
      " [ 129 6818]]\n",
      "Naive Bayes Normalized confusion matrix\n",
      "[[0.23 0.77]\n",
      " [0.02 0.98]]\n"
     ]
    },
    {
     "data": {
      "image/png": "[encoded data removed]",
      "text/plain": [
       "<Figure size 432x288 with 2 Axes>"
      ]
     },
     "metadata": {},
     "output_type": "display_data"
    },
    {
     "data": {
      "image/png": "[encoded data removed]",
      "text/plain": [
       "<Figure size 432x288 with 2 Axes>"
      ]
     },
     "metadata": {},
     "output_type": "display_data"
    }
   ],
   "source": [
    "def plot_confusion_matrix(cm, classes,\n",
    "                          normalize=False,\n",
    "                          title='Confusion matrix',\n",
    "                          cmap=plt.cm.Blues):\n",
    "    if normalize:\n",
    "        cm = cm.astype('float') / cm.sum(axis=1)[:, np.newaxis]\n",
    "        print(\"Naive Bayes Normalized confusion matrix\")\n",
    "    else:\n",
    "        print('Naive Bayes Confusion matrix, without normalization')\n",
    "    print(cm)\n",
    "\n",
    "    plt.imshow(cm, interpolation='nearest', cmap=cmap)\n",
    "    plt.title(title)\n",
    "    plt.colorbar()\n",
    "    tick_marks = np.arange(len(classes))\n",
    "    plt.xticks(tick_marks, classes, rotation=45)\n",
    "    plt.yticks(tick_marks, classes)\n",
    "\n",
    "    fmt = '.2f'if normalize else 'd'\n",
    "    thresh = cm.max() / 2.\n",
    "    for i, j in itertools.product(range(cm.shape[0]), range(cm.shape[1])):\n",
    "        plt.text(j, i, format(cm[i, j], fmt),\n",
    "                 horizontalalignment=\"center\",\n",
    "                 color=\"white\" if cm[i, j] > thresh else \"black\")\n",
    "\n",
    "    plt.ylabel('True label')\n",
    "    plt.xlabel('Predicted label')\n",
    "    plt.tight_layout()\n",
    "\n",
    "\n",
    "# Compute confusion matrix\n",
    "cnf_matrix = confusion_matrix(Y_test, Y_pred_nb)\n",
    "np.set_printoptions(precision=2)\n",
    "\n",
    "# Plot non-normalized confusion matrix\n",
    "plt.figure()\n",
    "plot_confusion_matrix(cnf_matrix, classes=class_names,\n",
    "                      title='Naive Bayes Confusion matrix, without normalization')\n",
    "\n",
    "# Plot normalized confusion matrix\n",
    "plt.figure()\n",
    "plot_confusion_matrix(cnf_matrix, classes=class_names, normalize=True,\n",
    "                      title='Naive Bayes Normalized confusion matrix')\n",
    "\n",
    "plt.show()"
   ]
  },
  {
   "cell_type": "code",
   "execution_count": 73,
   "metadata": {},
   "outputs": [
    {
     "name": "stdout",
     "output_type": "stream",
     "text": [
      "             precision    recall  f1-score   support\n",
      "\n",
      " <15 nights       0.73      0.23      0.35      1531\n",
      "  15+nights       0.85      0.98      0.91      6947\n",
      "\n",
      "avg / total       0.83      0.85      0.81      8478\n",
      "\n"
     ]
    }
   ],
   "source": [
    "from sklearn.metrics import classification_report\n",
    "print(classification_report(Y_test, Y_pred_nb, target_names=class_names)) "
   ]
  },
  {
   "cell_type": "code",
   "execution_count": 74,
   "metadata": {},
   "outputs": [
    {
     "data": {
      "text/plain": [
       "0.8439699227748821"
      ]
     },
     "execution_count": 74,
     "metadata": {},
     "output_type": "execute_result"
    }
   ],
   "source": [
    "from sklearn.model_selection import cross_val_score\n",
    "accuracies = cross_val_score(estimator = classifier_nb, X = X_train, y = Y_train, cv = 10)\n",
    "accuracies.mean()"
   ]
  },
  {
   "cell_type": "code",
   "execution_count": 75,
   "metadata": {},
   "outputs": [
    {
     "data": {
      "text/plain": [
       "0.005606149554283901"
      ]
     },
     "execution_count": 75,
     "metadata": {},
     "output_type": "execute_result"
    }
   ],
   "source": [
    "accuracies.std()"
   ]
  },
  {
   "cell_type": "markdown",
   "metadata": {},
   "source": [
    "### Kernel SVM (Support Vector Machine)"
   ]
  },
  {
   "cell_type": "code",
   "execution_count": 76,
   "metadata": {},
   "outputs": [
    {
     "data": {
      "text/plain": [
       "SVC(C=1.0, cache_size=200, class_weight=None, coef0=0.0,\n",
       "  decision_function_shape='ovr', degree=3, gamma='auto', kernel='rbf',\n",
       "  max_iter=-1, probability=False, random_state=0, shrinking=True,\n",
       "  tol=0.001, verbose=False)"
      ]
     },
     "execution_count": 76,
     "metadata": {},
     "output_type": "execute_result"
    }
   ],
   "source": [
    "# Fitting SVM to the Training set\n",
    "from sklearn.svm import SVC\n",
    "classifier_ksvm = SVC(kernel = 'rbf', random_state = 0)\n",
    "classifier_ksvm.fit(X_train, Y_train)"
   ]
  },
  {
   "cell_type": "code",
   "execution_count": 77,
   "metadata": {
    "collapsed": true
   },
   "outputs": [],
   "source": [
    "Y_pred_ksvm = classifier_ksvm.predict(X_test)"
   ]
  },
  {
   "cell_type": "code",
   "execution_count": 78,
   "metadata": {},
   "outputs": [
    {
     "name": "stdout",
     "output_type": "stream",
     "text": [
      "Kernal SVM Confusion matrix, without normalization\n",
      "[[ 849  682]\n",
      " [  30 6917]]\n",
      "Kernal SVM Normalized confusion matrix\n",
      "[[0.55 0.45]\n",
      " [0.   1.  ]]\n"
     ]
    },
    {
     "data": {
      "image/png": "[encoded data removed]",
      "text/plain": [
       "<Figure size 432x288 with 2 Axes>"
      ]
     },
     "metadata": {},
     "output_type": "display_data"
    },
    {
     "data": {
      "image/png": "[encoded data removed]",
      "text/plain": [
       "<Figure size 432x288 with 2 Axes>"
      ]
     },
     "metadata": {},
     "output_type": "display_data"
    }
   ],
   "source": [
    "def plot_confusion_matrix(cm, classes,\n",
    "                          normalize=False,\n",
    "                          title='Confusion matrix',\n",
    "                          cmap=plt.cm.Blues):\n",
    "    if normalize:\n",
    "        cm = cm.astype('float') / cm.sum(axis=1)[:, np.newaxis]\n",
    "        print(\"Kernal SVM Normalized confusion matrix\")\n",
    "    else:\n",
    "        print('Kernal SVM Confusion matrix, without normalization')\n",
    "    print(cm)\n",
    "\n",
    "    plt.imshow(cm, interpolation='nearest', cmap=cmap)\n",
    "    plt.title(title)\n",
    "    plt.colorbar()\n",
    "    tick_marks = np.arange(len(classes))\n",
    "    plt.xticks(tick_marks, classes, rotation=45)\n",
    "    plt.yticks(tick_marks, classes)\n",
    "\n",
    "    fmt = '.2f'if normalize else 'd'\n",
    "    thresh = cm.max() / 2.\n",
    "    for i, j in itertools.product(range(cm.shape[0]), range(cm.shape[1])):\n",
    "        plt.text(j, i, format(cm[i, j], fmt),\n",
    "                 horizontalalignment=\"center\",\n",
    "                 color=\"white\" if cm[i, j] > thresh else \"black\")\n",
    "\n",
    "    plt.ylabel('True label')\n",
    "    plt.xlabel('Predicted label')\n",
    "    plt.tight_layout()\n",
    "\n",
    "\n",
    "# Compute confusion matrix\n",
    "cnf_matrix = confusion_matrix(Y_test, Y_pred_ksvm)\n",
    "np.set_printoptions(precision=2)\n",
    "\n",
    "# Plot non-normalized confusion matrix\n",
    "plt.figure()\n",
    "plot_confusion_matrix(cnf_matrix, classes=class_names,\n",
    "                      title='Kernal SVM Confusion matrix, without normalization')\n",
    "\n",
    "# Plot normalized confusion matrix\n",
    "plt.figure()\n",
    "plot_confusion_matrix(cnf_matrix, classes=class_names, normalize=True,\n",
    "                      title='Kernal SVM Normalized confusion matrix')\n",
    "\n",
    "plt.show()"
   ]
  },
  {
   "cell_type": "code",
   "execution_count": 79,
   "metadata": {},
   "outputs": [
    {
     "name": "stdout",
     "output_type": "stream",
     "text": [
      "             precision    recall  f1-score   support\n",
      "\n",
      " <15 nights       0.97      0.55      0.70      1531\n",
      "  15+nights       0.91      1.00      0.95      6947\n",
      "\n",
      "avg / total       0.92      0.92      0.91      8478\n",
      "\n"
     ]
    }
   ],
   "source": [
    "from sklearn.metrics import classification_report\n",
    "print(classification_report(Y_test, Y_pred_ksvm, target_names=class_names)) "
   ]
  },
  {
   "cell_type": "code",
   "execution_count": 82,
   "metadata": {},
   "outputs": [
    {
     "data": {
      "text/plain": [
       "0.9150254590020761"
      ]
     },
     "execution_count": 82,
     "metadata": {},
     "output_type": "execute_result"
    }
   ],
   "source": [
    "from sklearn.model_selection import cross_val_score\n",
    "accuracies = cross_val_score(estimator = classifier_ksvm, X = X_train, y = Y_train, cv = 10)\n",
    "accuracies.mean()"
   ]
  },
  {
   "cell_type": "code",
   "execution_count": 83,
   "metadata": {},
   "outputs": [
    {
     "data": {
      "text/plain": [
       "0.004591510781927118"
      ]
     },
     "execution_count": 83,
     "metadata": {},
     "output_type": "execute_result"
    }
   ],
   "source": [
    "accuracies.std()"
   ]
  },
  {
   "cell_type": "markdown",
   "metadata": {},
   "source": [
    "Based on all the scores and validations, we choose logistic regression and random forest model for further improvement."
   ]
  }
 ],
 "metadata": {
  "kernelspec": {
   "display_name": "Python 3",
   "language": "python",
   "name": "python3"
  },
  "language_info": {
   "codemirror_mode": {
    "name": "ipython",
    "version": 3
   },
   "file_extension": ".py",
   "mimetype": "text/x-python",
   "name": "python",
   "nbconvert_exporter": "python",
   "pygments_lexer": "ipython3",
   "version": "3.6.2"
  }
 },
 "nbformat": 4,
 "nbformat_minor": 2
}
